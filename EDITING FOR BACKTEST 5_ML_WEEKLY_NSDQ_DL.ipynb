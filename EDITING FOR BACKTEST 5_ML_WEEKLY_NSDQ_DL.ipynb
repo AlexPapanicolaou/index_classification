{
 "cells": [
  {
   "cell_type": "code",
   "execution_count": 1,
   "id": "69d11f9c-baeb-4d1e-9eb9-574aec9a8764",
   "metadata": {},
   "outputs": [],
   "source": [
    "from fredapi import Fred\n",
    "fred = Fred(api_key='e5a7e3f1c4b87e8a48e1b5a27ad869c2')\n",
    "\n",
    "# General\n",
    "import pandas as pd\n",
    "import numpy as np\n",
    "from numpy import array\n",
    "from pandas import DataFrame\n",
    "import datetime as dt\n",
    "from functools import reduce\n",
    "import yfinance as yf\n",
    "\n",
    "import sys\n",
    "import os\n",
    "from decimal import Decimal\n",
    "\n",
    "# ML\n",
    "import sklearn\n",
    "import imblearn\n",
    "from sklearn.model_selection import train_test_split, TimeSeriesSplit, GridSearchCV, KFold, cross_val_score, StratifiedKFold\n",
    "from sklearn.tree import DecisionTreeClassifier\n",
    "from sklearn.ensemble import RandomForestClassifier, ExtraTreesClassifier\n",
    "import xgboost as xgb\n",
    "from xgboost import XGBClassifier\n",
    "from sklearn.inspection import PartialDependenceDisplay\n",
    "from sklearn.inspection import permutation_importance\n",
    "from sklearn.linear_model import LogisticRegression\n",
    "from sklearn.metrics import accuracy_score, f1_score, roc_auc_score, roc_curve, recall_score, precision_score, average_precision_score, precision_recall_curve, matthews_corrcoef, cohen_kappa_score\n",
    "from sklearn.metrics import classification_report\n",
    "from sklearn.metrics import confusion_matrix\n",
    "import sklearn.metrics as metrics\n",
    "from sklearn.feature_selection import SelectFromModel\n",
    "from sklearn import tree\n",
    "from sklearn.svm import SVC\n",
    "from imblearn.over_sampling import SMOTE\n",
    "from imblearn.under_sampling import RandomUnderSampler\n",
    "# from sklearn.pipeline import Pipeline\n",
    "from imblearn.pipeline import Pipeline\n",
    "from sklearn import preprocessing\n",
    "from sklearn.preprocessing import StandardScaler\n",
    "\n",
    "# import shap\n",
    "\n",
    "# Visualisation\n",
    "from plotly import tools\n",
    "from plotly.subplots import make_subplots\n",
    "import matplotlib as mpl\n",
    "import matplotlib.pyplot as plt\n",
    "import plotly as plotly\n",
    "import plotly.express as px\n",
    "import plotly.graph_objects as go\n",
    "from sklearn.inspection import plot_partial_dependence\n",
    "#from ipywidgets import interact\n",
    "#import ipywidgets as widgets\n",
    "#plt.style.use('seaborn')\n",
    "import seaborn as sns\n",
    "mpl.rcParams['font.family'] = 'serif'\n",
    "sns.set(font_scale=1.5)\n",
    "sns.set_style(\"darkgrid\")\n",
    "pd.set_option('display.max_rows', 1000)"
   ]
  },
  {
   "cell_type": "code",
   "execution_count": 2,
   "id": "409cc461-368c-43d3-a4b9-5f698461992e",
   "metadata": {},
   "outputs": [],
   "source": [
    "%matplotlib inline"
   ]
  },
  {
   "cell_type": "markdown",
   "id": "0070a9be",
   "metadata": {},
   "source": [
    "## WEEKLY"
   ]
  },
  {
   "cell_type": "code",
   "execution_count": 3,
   "id": "687c3e11",
   "metadata": {},
   "outputs": [],
   "source": [
    "# df1 = fred.get_series('',  observation_start='1980-01-01', frequency='w').to_frame(name='')"
   ]
  },
  {
   "cell_type": "code",
   "execution_count": 4,
   "id": "4c15a3b2",
   "metadata": {},
   "outputs": [],
   "source": [
    "df1 = fred.get_series('DFF',  observation_start='1980-01-01', frequency='w').to_frame(name='DFF')\n",
    "\n",
    "df2 = fred.get_series('M1',  observation_start='1980-01-01', frequency='w').to_frame(name='M1')\n",
    "\n",
    "df3 = fred.get_series('M2',  observation_start='1980-01-01', frequency='w').to_frame(name='M2')\n",
    "\n",
    "df4 = fred.get_series('DTB3',  observation_start='1980-01-01', frequency='w').to_frame(name='')\n",
    "\n",
    "df5 = fred.get_series('DGS5',  observation_start='1980-01-01', frequency='w').to_frame(name='')\n",
    "\n",
    "df6 = fred.get_series('DGS10',  observation_start='1980-01-01', frequency='w').to_frame(name='DGS10')\n",
    "\n",
    "df7 = fred.get_series('DGS30',  observation_start='1980-01-01', frequency='w').to_frame(name='DGS30')\n",
    "\n",
    "df8 = fred.get_series('TEDRATE',  observation_start='1980-01-01', frequency='w').to_frame(name='TEDRATE')\n",
    "\n",
    "df9 = fred.get_series('ICSA',  observation_start='1980-01-01', frequency='w').to_frame(name='ICSA')\n",
    "\n",
    "df10 = fred.get_series('IC4WSA',  observation_start='1980-01-01', frequency='w').to_frame(name='IC4WSA')\n",
    "\n",
    "df11 = fred.get_series('STLFSI',  observation_start='1980-01-01', frequency='w').to_frame(name='STLFSI')\n",
    "\n",
    "df12 = fred.get_series('DCOILWTICO',  observation_start='1980-01-01', frequency='w').to_frame(name='DCOILWTICO')\n",
    "\n",
    "df13 = fred.get_series('DTWEXB',  observation_start='1980-01-01', frequency='w').to_frame(name='DTWEXB')\n",
    "\n",
    "df14 = fred.get_series('DTWEXM',  observation_start='1980-01-01', frequency='w').to_frame(name='DTWEXM')\n",
    "\n",
    "df15 = fred.get_series('TOTCI',  observation_start='1980-01-01', frequency='w').to_frame(name='TOTCI')\n",
    "\n",
    "df16 = fred.get_series('BAAFF',  observation_start='1980-01-01', frequency='w').to_frame(name='BAAFF')\n",
    "\n",
    "df17 = fred.get_series('FF',  observation_start='1980-01-01', frequency='w').to_frame(name='FF')\n",
    "\n",
    "df18 = fred.get_series('WGS10YR',  observation_start='1980-01-01', frequency='w').to_frame(name='WGS10YR')\n",
    "\n",
    "df19 = fred.get_series('WTB3MS',  observation_start='1980-01-01', frequency='w').to_frame(name='WTB3MS')\n",
    "\n",
    "df20 = fred.get_series('WGS1YR',  observation_start='1980-01-01', frequency='w').to_frame(name='WGS1YR')\n",
    "\n",
    "df21 = fred.get_series('WGS2YR',  observation_start='1980-01-01', frequency='w').to_frame(name='WGS2YR')\n",
    "\n",
    "df22 = fred.get_series('WGS5YR',  observation_start='1980-01-01', frequency='w').to_frame(name='WGS5YR')\n",
    "\n",
    "df23 = fred.get_series('WGS30YR',  observation_start='1980-01-01', frequency='w').to_frame(name='WGS30YR')\n",
    "\n",
    "df24 = fred.get_series('WGS20YR',  observation_start='1980-01-01', frequency='w').to_frame(name='WGS20YR')\n",
    "\n",
    "df25 = fred.get_series('WCOILBRENTEU',  observation_start='1980-01-01', frequency='w').to_frame(name='WCOILBRENTEU')\n",
    "\n",
    "df26 = fred.get_series('DPSACBW027SBOG',  observation_start='1980-01-01', frequency='w').to_frame(name='DPSACBW027SBOG')\n",
    "\n",
    "df27 = fred.get_series('WPRIME',  observation_start='1980-01-01', frequency='w').to_frame(name='WPRIME')\n",
    "\n",
    "df28 = fred.get_series('WGS3MO',  observation_start='1980-01-01', frequency='w').to_frame(name='WGS3MO')\n",
    "\n",
    "df29 = fred.get_series('GASREGW',  observation_start='1980-01-01', frequency='w').to_frame(name='GASREGW')\n",
    "\n",
    "df30 = fred.get_series('CCSA',  observation_start='1980-01-01', frequency='w').to_frame(name='CCSA')\n",
    "\n",
    "df31 = fred.get_series('WRESBAL',  observation_start='1980-01-01', frequency='w').to_frame(name='WRESBAL')\n",
    "\n",
    "df32 = fred.get_series('WGS3YR',  observation_start='1980-01-01', frequency='w').to_frame(name='WGS3YR')\n",
    "\n",
    "df33 = fred.get_series('WHHNGSP',  observation_start='1980-01-01', frequency='w').to_frame(name='WHHNGSP')\n",
    "\n",
    "df34 = fred.get_series('TOTLL',  observation_start='1980-01-01', frequency='w').to_frame(name='TOTLL')\n",
    "\n",
    "df35 = fred.get_series('WTB1YR',  observation_start='1980-01-01', frequency='w').to_frame(name='WTB1YR')\n",
    "\n",
    "df36 = fred.get_series('TOTBKCR',  observation_start='1980-01-01', frequency='w').to_frame(name='TOTBKCR')\n",
    "\n",
    "df37 = fred.get_series('ANFCI',  observation_start='1980-01-01', frequency='w').to_frame(name='ANFCI')\n",
    "\n",
    "df38 = fred.get_series('WGS7YR',  observation_start='1980-01-01', frequency='w').to_frame(name='WGS7YR')\n",
    "\n",
    "df39 = fred.get_series('WGS6MO',  observation_start='1980-01-01', frequency='w').to_frame(name='WGS6MO')\n",
    "\n",
    "df40 = fred.get_series('WFII30',  observation_start='1980-01-01', frequency='w').to_frame(name='WFII30') # REMOVED\n",
    "\n",
    "df41 = fred.get_series('WTB6MS',  observation_start='1980-01-01', frequency='w').to_frame(name='WTB6MS')\n",
    "\n",
    "df42 = fred.get_series('TLAACBW027SBOG',  observation_start='1980-01-01', frequency='w').to_frame(name='TLAACBW027SBOG')\n",
    "\n",
    "df43 = fred.get_series('CLSACBW027SBOG',  observation_start='1980-01-01', frequency='w').to_frame(name='CLSACBW027SBOG')\n",
    "\n",
    "df44 = fred.get_series('WDDNS',  observation_start='1980-01-01', frequency='w').to_frame(name='WDDNS')\n",
    "\n",
    "df45 = fred.get_series('GASDESW',  observation_start='1980-01-01', frequency='w').to_frame(name='GASDESW')\n",
    "\n",
    "df46 = fred.get_series('RHEACBW027SBOG',  observation_start='1980-01-01', frequency='w').to_frame(name='RHEACBW027SBOG')\n",
    "\n",
    "df47 = fred.get_series('WRMFNS',  observation_start='1980-01-01', frequency='w').to_frame(name='WRMFNS')\n",
    "\n",
    "df48 = fred.get_series('CASACBW027SBOG',  observation_start='1980-01-01', frequency='w').to_frame(name='CASACBW027SBOG')\n",
    "\n",
    "df49 = fred.get_series('NFCICREDIT',  observation_start='1980-01-01', frequency='w').to_frame(name='NFCICREDIT')\n",
    "\n",
    "df50 = fred.get_series('RELACBW027SBOG',  observation_start='1980-01-01', frequency='w').to_frame(name='RELACBW027SBOG')\n",
    "\n",
    "df51 = fred.get_series('NFCILEVERAGE',  observation_start='1980-01-01', frequency='w').to_frame(name='NFCILEVERAGE')\n",
    "\n",
    "df52 = fred.get_series('GASREGCOVW',  observation_start='1980-01-01', frequency='w').to_frame(name='GASREGCOVW')\n",
    "\n",
    "df53 = fred.get_series('NFCIRISK',  observation_start='1980-01-01', frequency='w').to_frame(name='NFCIRISK')\n",
    "\n",
    "df54 = fred.get_series('TASACBW027SBOG',  observation_start='1980-01-01', frequency='w').to_frame(name='TASACBW027SBOG')\n",
    "\n",
    "df55 = fred.get_series('WSMTMNS',  observation_start='1980-01-01', frequency='w').to_frame(name='WSMTMNS')\n",
    "\n",
    "df56 = fred.get_series('SBCACBW027SBOG',  observation_start='1980-01-01', frequency='w').to_frame(name='SBCACBW027SBOG')\n",
    "\n",
    "df57 = fred.get_series('IURSA',  observation_start='1980-01-01', frequency='w').to_frame(name='IURSA')\n",
    "\n",
    "df58 = fred.get_series('CIBOARD',  observation_start='1980-01-01', frequency='w').to_frame(name='CIBOARD')\n",
    "\n",
    "df59 = fred.get_series('TLBACBW027NBOG',  observation_start='1980-01-01', frequency='w').to_frame(name='TLBACBW027NBOG')\n"
   ]
  },
  {
   "cell_type": "code",
   "execution_count": 5,
   "id": "e6b3504f",
   "metadata": {},
   "outputs": [],
   "source": [
    "w_df_list = []\n",
    "\n",
    "for i in range(1, 60):\n",
    "    w_df_list.append(globals()[f'df{i}'])"
   ]
  },
  {
   "cell_type": "code",
   "execution_count": 6,
   "id": "c92bf8a8",
   "metadata": {},
   "outputs": [],
   "source": [
    "w_df = pd.concat(w_df_list, axis=1).interpolate()"
   ]
  },
  {
   "cell_type": "code",
   "execution_count": 7,
   "id": "8936bcc8",
   "metadata": {},
   "outputs": [],
   "source": [
    "w_df = w_df.drop([\"WFII30\", \"STLFSI\", \"DCOILWTICO\", \"DTWEXB\", \"BAAFF\", \"WCOILBRENTEU\", \"WGS3MO\", \"GASREGW\", \"GASREGW\", \"WHHNGSP\", \"WGS6MO\", \"GASDESW\", \"RHEACBW027SBOG\", \"WRMFNS\", \"GASREGCOVW\", \"WSMTMNS\", \"CIBOARD\"], axis=1)"
   ]
  },
  {
   "cell_type": "code",
   "execution_count": 8,
   "id": "d428b180",
   "metadata": {},
   "outputs": [
    {
     "data": {
      "text/plain": [
       "(9013, 43)"
      ]
     },
     "execution_count": 8,
     "metadata": {},
     "output_type": "execute_result"
    }
   ],
   "source": [
    "w_df.shape"
   ]
  },
  {
   "cell_type": "code",
   "execution_count": 9,
   "id": "ea72a7a4",
   "metadata": {},
   "outputs": [],
   "source": [
    "df_week = w_df.dropna()"
   ]
  },
  {
   "cell_type": "markdown",
   "id": "6ab0276b",
   "metadata": {},
   "source": [
    "## MONTHLY"
   ]
  },
  {
   "cell_type": "code",
   "execution_count": 10,
   "id": "ca451c61",
   "metadata": {},
   "outputs": [],
   "source": [
    "# df1 = fred.get_series('',  observation_start='1980-01-01', frequency='m').to_frame(name='')"
   ]
  },
  {
   "cell_type": "code",
   "execution_count": 11,
   "id": "b8c6129b",
   "metadata": {},
   "outputs": [],
   "source": [
    "df60 = fred.get_series('UNRATE',  observation_start='1980-01-01', frequency='m').to_frame(name='UNRATE')\n",
    "df61 = fred.get_series('CIVPART',  observation_start='1980-01-01', frequency='m').to_frame(name='CIVPART')\n",
    "df62 = fred.get_series('EMRATIO',  observation_start='1980-01-01', frequency='m').to_frame(name='EMRATIO')\n",
    "df63 = fred.get_series('UNEMPLOY',  observation_start='1980-01-01', frequency='m').to_frame(name='UNEMPLOY')\n",
    "df64 = fred.get_series('MANEMP',  observation_start='1980-01-01', frequency='m').to_frame(name='MANEMP')\n",
    "df65 = fred.get_series('DSPIC96',  observation_start='1980-01-01', frequency='m').to_frame(name='DSPIC96')\n",
    "df66 = fred.get_series('PCE',  observation_start='1980-01-01', frequency='m').to_frame(name='PCE')\n",
    "df67 = fred.get_series('PCEDG',  observation_start='1980-01-01', frequency='m').to_frame(name='PCEDG')\n",
    "df68 = fred.get_series('PSAVERT',  observation_start='1980-01-01', frequency='m').to_frame(name='PSAVERT')\n",
    "df69 = fred.get_series('RRSFS',  observation_start='1980-01-01', frequency='m').to_frame(name='RRSFS')\n",
    "df70 = fred.get_series('DSPI',  observation_start='1980-01-01', frequency='m').to_frame(name='DSPI')\n",
    "df71 = fred.get_series('INDPRO',  observation_start='1980-01-01', frequency='m').to_frame(name='')\n",
    "df72 = fred.get_series('TCU',  observation_start='1980-01-01', frequency='m').to_frame(name='INDPRO')\n",
    "df73 = fred.get_series('HOUST',  observation_start='1980-01-01', frequency='m').to_frame(name='HOUST')\n",
    "df74 = fred.get_series('USSLIND',  observation_start='1980-01-01', frequency='m').to_frame(name='USSLIND')\n",
    "df75 = fred.get_series('AMDMUO',  observation_start='1980-01-01', frequency='m').to_frame(name='AMDMUO')\n",
    "df76 = fred.get_series('AWHMAN',  observation_start='1980-01-01', frequency='m').to_frame(name='AWHMAN')\n",
    "df77 = fred.get_series('BOGMBASE',  observation_start='1980-01-01', frequency='m').to_frame(name='BOGMBASE')\n",
    "df78 = fred.get_series('BUSLOANS',  observation_start='1980-01-01', frequency='m').to_frame(name='BUSLOANS')\n",
    "df79 = fred.get_series('CE16OV',  observation_start='1980-01-01', frequency='m').to_frame(name='CE16OV')\n",
    "df80 = fred.get_series('CLF16OV',  observation_start='1980-01-01', frequency='m').to_frame(name='CLF16OV')\n",
    "df81 = fred.get_series('CUMFNS',  observation_start='1980-01-01', frequency='m').to_frame(name='CUMFNS')\n",
    "df82 = fred.get_series('DDURRG3M086SBEA',  observation_start='1980-01-01', frequency='m').to_frame(name='DDURRG3M086SBEA')\n",
    "df83 = fred.get_series('DTCOLNVHFNM',  observation_start='1980-01-01', frequency='m').to_frame(name='DTCOLNVHFNM')\n",
    "df84 = fred.get_series('DTCTHFNM',  observation_start='1980-01-01', frequency='m').to_frame(name='DTCTHFNM')\n",
    "df85 = fred.get_series('FEDFUNDS',  observation_start='1980-01-01', frequency='m').to_frame(name='FEDFUNDS')\n",
    "df86 = fred.get_series('GS1',  observation_start='1980-01-01', frequency='m').to_frame(name='GS1')\n",
    "df87 = fred.get_series('GS3',  observation_start='1980-01-01', frequency='m').to_frame(name='GS3')\n",
    "df88 = fred.get_series('GS5',  observation_start='1980-01-01', frequency='m').to_frame(name='GS5')\n",
    "df89 = fred.get_series('GS10',  observation_start='1980-01-01', frequency='m').to_frame(name='GS10')\n",
    "df90 = fred.get_series('INVEST',  observation_start='1980-01-01', frequency='m').to_frame(name='INVEST')\n",
    "df91 = fred.get_series('M1SL',  observation_start='1980-01-01', frequency='m').to_frame(name='M1SL')\n",
    "df92 = fred.get_series('M2SL',  observation_start='1980-01-01', frequency='m').to_frame(name='M2SL')\n",
    "df93 = fred.get_series('NONREVSL',  observation_start='1980-01-01', frequency='m').to_frame(name='NONREVSL')\n",
    "df94 = fred.get_series('PAYEMS',  observation_start='1980-01-01', frequency='m').to_frame(name='PAYEMS')\n",
    "df95 = fred.get_series('PERMIT',  observation_start='1980-01-01', frequency='m').to_frame(name='PERMIT')\n",
    "df96 = fred.get_series('POPTHM',  observation_start='1980-01-01', frequency='m').to_frame(name='POPTHM')\n",
    "df97 = fred.get_series('PPIACO',  observation_start='1980-01-01', frequency='m').to_frame(name='PPIACO')\n",
    "df98 = fred.get_series('PSAVERT',  observation_start='1980-01-01', frequency='m').to_frame(name='PSAVERT')\n",
    "df99 = fred.get_series('REALLN',  observation_start='1980-01-01', frequency='m').to_frame(name='REALLN')\n",
    "df100 = fred.get_series('RPI',  observation_start='1980-01-01', frequency='m').to_frame(name='RPI')\n",
    "df101 = fred.get_series('T10YFF',  observation_start='1980-01-01', frequency='m').to_frame(name='T10YFF')\n",
    "df102 = fred.get_series('T1YFF',  observation_start='1980-01-01', frequency='m').to_frame(name='T1YFF')\n",
    "df103 = fred.get_series('T5YFF',  observation_start='1980-01-01', frequency='m').to_frame(name='T5YFF')\n",
    "df104 = fred.get_series('TB3MS',  observation_start='1980-01-01', frequency='m').to_frame(name='TB3MS')\n",
    "df105 = fred.get_series('TB3SMFFM',  observation_start='1980-01-01', frequency='m').to_frame(name='TB3SMFFM')\n",
    "df106 = fred.get_series('TB6MS',  observation_start='1980-01-01', frequency='m').to_frame(name='TB6MS')\n",
    "df107 = fred.get_series('TB6SMFFM',  observation_start='1980-01-01', frequency='m').to_frame(name='TB6SMFFM')\n",
    "df108 = fred.get_series('TOTRESNS',  observation_start='1980-01-01', frequency='m').to_frame(name='TOTRESNS')\n",
    "df109 = fred.get_series('WPSFD49207',  observation_start='1980-01-01', frequency='m').to_frame(name='WPSFD49207')\n",
    "df110 = fred.get_series('WTISPLC',  observation_start='1980-01-01', frequency='m').to_frame(name='WTISPLC')\n",
    "df111 = fred.get_series('AMDMUO',  observation_start='1980-01-01', frequency='m').to_frame(name='AMDMUO')\n",
    "df112 = fred.get_series('AWHMAN',  observation_start='1980-01-01', frequency='m').to_frame(name='AWHMAN')\n",
    "df113 = fred.get_series('BOGMBASE',  observation_start='1980-01-01', frequency='m').to_frame(name='BOGMBASE')\n",
    "df114 = fred.get_series('BUSLOANS',  observation_start='1980-01-01', frequency='m').to_frame(name='BUSLOANS')\n",
    "df115 = fred.get_series('CE16OV',  observation_start='1980-01-01', frequency='m').to_frame(name='CE16OV')\n",
    "df116 = fred.get_series('CLF16OV',  observation_start='1980-01-01', frequency='m').to_frame(name='CLF16OV')\n",
    "df117 = fred.get_series('CUMFNS',  observation_start='1980-01-01', frequency='m').to_frame(name='CUMFNS')\n",
    "df118 = fred.get_series('DDURRG3M086SBEA',  observation_start='1980-01-01', frequency='m').to_frame(name='DDURRG3M086SBEA')\n",
    "df119 = fred.get_series('DTCOLNVHFNM',  observation_start='1980-01-01', frequency='m').to_frame(name='DTCOLNVHFNM')\n",
    "df120 = fred.get_series('DTCTHFNM',  observation_start='1980-01-01', frequency='m').to_frame(name='DTCTHFNM')\n",
    "df121 = fred.get_series('FEDFUNDS',  observation_start='1980-01-01', frequency='m').to_frame(name='FEDFUNDS')\n",
    "df122 = fred.get_series('GS1',  observation_start='1980-01-01', frequency='m').to_frame(name='GS1')\n",
    "df123 = fred.get_series('GS3',  observation_start='1980-01-01', frequency='m').to_frame(name='GS3')\n",
    "df124 = fred.get_series('GS5',  observation_start='1980-01-01', frequency='m').to_frame(name='GS5')\n",
    "df125 = fred.get_series('GS10',  observation_start='1980-01-01', frequency='m').to_frame(name='GS10')\n",
    "df126 = fred.get_series('INVEST',  observation_start='1980-01-01', frequency='m').to_frame(name='INVEST')\n",
    "df127 = fred.get_series('M1SL',  observation_start='1980-01-01', frequency='m').to_frame(name='M1SL')\n",
    "df128 = fred.get_series('M2SL',  observation_start='1980-01-01', frequency='m').to_frame(name='M2SL')\n",
    "df129 = fred.get_series('NONREVSL',  observation_start='1980-01-01', frequency='m').to_frame(name='NONREVSL')\n",
    "df130 = fred.get_series('PAYEMS',  observation_start='1980-01-01', frequency='m').to_frame(name='PAYEMS')\n",
    "df131 = fred.get_series('PERMIT',  observation_start='1980-01-01', frequency='m').to_frame(name='PERMIT')\n",
    "df132 = fred.get_series('POPTHM',  observation_start='1980-01-01', frequency='m').to_frame(name='POPTHM')\n",
    "df133 = fred.get_series('PPIACO',  observation_start='1980-01-01', frequency='m').to_frame(name='PPIACO')\n",
    "df134 = fred.get_series('PSAVERT',  observation_start='1980-01-01', frequency='m').to_frame(name='PSAVERT')\n",
    "df135 = fred.get_series('REALLN',  observation_start='1980-01-01', frequency='m').to_frame(name='REALLN')\n",
    "df136 = fred.get_series('RPI',  observation_start='1980-01-01', frequency='m').to_frame(name='RPI')\n",
    "df137 = fred.get_series('TB3MS',  observation_start='1980-01-01', frequency='m').to_frame(name='TB3MS')\n",
    "df138 = fred.get_series('TB3SMFFM',  observation_start='1980-01-01', frequency='m').to_frame(name='TB3SMFFM')\n",
    "df139 = fred.get_series('TB6MS',  observation_start='1980-01-01', frequency='m').to_frame(name='TB6MS')\n",
    "df140 = fred.get_series('TB6SMFFM',  observation_start='1980-01-01', frequency='m').to_frame(name='TB6SMFFM')\n",
    "df141 = fred.get_series('TOTRESNS',  observation_start='1980-01-01', frequency='m').to_frame(name='TOTRESNS')\n",
    "df142 = fred.get_series('WPSFD49207',  observation_start='1980-01-01', frequency='m').to_frame(name='WPSFD49207')\n",
    "df143 = fred.get_series('WTISPLC',  observation_start='1980-01-01', frequency='m').to_frame(name='WTISPLC')"
   ]
  },
  {
   "cell_type": "code",
   "execution_count": 12,
   "id": "a0096ab9",
   "metadata": {},
   "outputs": [],
   "source": [
    "m_df_list = []\n",
    "\n",
    "for i in range(59, 144):\n",
    "    m_df_list.append(globals()[f'df{i}'])"
   ]
  },
  {
   "cell_type": "code",
   "execution_count": 13,
   "id": "18022364",
   "metadata": {},
   "outputs": [],
   "source": [
    "m_df = pd.concat(m_df_list, axis=1).interpolate()"
   ]
  },
  {
   "cell_type": "code",
   "execution_count": 14,
   "id": "59af56b8",
   "metadata": {},
   "outputs": [],
   "source": [
    "m_df = m_df.loc[:, ~m_df.columns.duplicated()]"
   ]
  },
  {
   "cell_type": "code",
   "execution_count": 15,
   "id": "51183693",
   "metadata": {
    "scrolled": true
   },
   "outputs": [
    {
     "data": {
      "text/plain": [
       "(2697, 51)"
      ]
     },
     "execution_count": 15,
     "metadata": {},
     "output_type": "execute_result"
    }
   ],
   "source": [
    "m_df.shape"
   ]
  },
  {
   "cell_type": "code",
   "execution_count": 16,
   "id": "9e61904f",
   "metadata": {},
   "outputs": [],
   "source": [
    "m_df = m_df.drop([\"USSLIND\", \"RRSFS\", \"AMDMUO\", \"BOGMBASE\"], axis=1)"
   ]
  },
  {
   "cell_type": "code",
   "execution_count": 17,
   "id": "3604a6b0",
   "metadata": {},
   "outputs": [],
   "source": [
    "m_df = m_df.resample('W').interpolate()"
   ]
  },
  {
   "cell_type": "code",
   "execution_count": 18,
   "id": "d5a36515",
   "metadata": {},
   "outputs": [],
   "source": [
    "m_df = m_df.rename_axis('Date')"
   ]
  },
  {
   "cell_type": "code",
   "execution_count": 19,
   "id": "923b8947",
   "metadata": {},
   "outputs": [],
   "source": [
    "df_week = df_week.rename_axis('Date')"
   ]
  },
  {
   "cell_type": "code",
   "execution_count": 20,
   "id": "20481496",
   "metadata": {},
   "outputs": [],
   "source": [
    "m_df = m_df.reindex(df_week.index, method='ffill')"
   ]
  },
  {
   "cell_type": "code",
   "execution_count": 21,
   "id": "0dd59549",
   "metadata": {},
   "outputs": [],
   "source": [
    "dfx = pd.concat([df_week, m_df], axis=1)"
   ]
  },
  {
   "cell_type": "code",
   "execution_count": 22,
   "id": "1532b425",
   "metadata": {},
   "outputs": [
    {
     "data": {
      "text/plain": [
       "(7756, 90)"
      ]
     },
     "execution_count": 22,
     "metadata": {},
     "output_type": "execute_result"
    }
   ],
   "source": [
    "dfx.shape"
   ]
  },
  {
   "cell_type": "code",
   "execution_count": 23,
   "id": "d0eebd1e",
   "metadata": {
    "scrolled": true
   },
   "outputs": [
    {
     "data": {
      "text/plain": [
       "(7756, 90)"
      ]
     },
     "execution_count": 23,
     "metadata": {},
     "output_type": "execute_result"
    }
   ],
   "source": [
    "dfx.dropna().shape"
   ]
  },
  {
   "cell_type": "code",
   "execution_count": 24,
   "id": "308ceaa2",
   "metadata": {},
   "outputs": [
    {
     "data": {
      "text/html": [
       "<div>\n",
       "<style scoped>\n",
       "    .dataframe tbody tr th:only-of-type {\n",
       "        vertical-align: middle;\n",
       "    }\n",
       "\n",
       "    .dataframe tbody tr th {\n",
       "        vertical-align: top;\n",
       "    }\n",
       "\n",
       "    .dataframe thead th {\n",
       "        text-align: right;\n",
       "    }\n",
       "</style>\n",
       "<table border=\"1\" class=\"dataframe\">\n",
       "  <thead>\n",
       "    <tr style=\"text-align: right;\">\n",
       "      <th></th>\n",
       "      <th>DFF</th>\n",
       "      <th>M1</th>\n",
       "      <th>M2</th>\n",
       "      <th></th>\n",
       "      <th></th>\n",
       "      <th>DGS10</th>\n",
       "      <th>DGS30</th>\n",
       "      <th>TEDRATE</th>\n",
       "      <th>ICSA</th>\n",
       "      <th>IC4WSA</th>\n",
       "      <th>...</th>\n",
       "      <th>T10YFF</th>\n",
       "      <th>T1YFF</th>\n",
       "      <th>T5YFF</th>\n",
       "      <th>TB3MS</th>\n",
       "      <th>TB3SMFFM</th>\n",
       "      <th>TB6MS</th>\n",
       "      <th>TB6SMFFM</th>\n",
       "      <th>TOTRESNS</th>\n",
       "      <th>WPSFD49207</th>\n",
       "      <th>WTISPLC</th>\n",
       "    </tr>\n",
       "    <tr>\n",
       "      <th>Date</th>\n",
       "      <th></th>\n",
       "      <th></th>\n",
       "      <th></th>\n",
       "      <th></th>\n",
       "      <th></th>\n",
       "      <th></th>\n",
       "      <th></th>\n",
       "      <th></th>\n",
       "      <th></th>\n",
       "      <th></th>\n",
       "      <th></th>\n",
       "      <th></th>\n",
       "      <th></th>\n",
       "      <th></th>\n",
       "      <th></th>\n",
       "      <th></th>\n",
       "      <th></th>\n",
       "      <th></th>\n",
       "      <th></th>\n",
       "      <th></th>\n",
       "      <th></th>\n",
       "    </tr>\n",
       "  </thead>\n",
       "  <tbody>\n",
       "    <tr>\n",
       "      <th>1986-01-10</th>\n",
       "      <td>8.0100</td>\n",
       "      <td>621.050</td>\n",
       "      <td>2500.400</td>\n",
       "      <td>7.1300</td>\n",
       "      <td>8.6500</td>\n",
       "      <td>9.1600</td>\n",
       "      <td>9.370</td>\n",
       "      <td>1.0100</td>\n",
       "      <td>388250.0</td>\n",
       "      <td>378812.5</td>\n",
       "      <td>...</td>\n",
       "      <td>0.825769</td>\n",
       "      <td>-0.656154</td>\n",
       "      <td>0.366923</td>\n",
       "      <td>6.928846</td>\n",
       "      <td>-1.081538</td>\n",
       "      <td>6.972692</td>\n",
       "      <td>-1.037692</td>\n",
       "      <td>48.446154</td>\n",
       "      <td>105.442308</td>\n",
       "      <td>24.582038</td>\n",
       "    </tr>\n",
       "    <tr>\n",
       "      <th>1986-01-11</th>\n",
       "      <td>7.9900</td>\n",
       "      <td>620.575</td>\n",
       "      <td>2500.000</td>\n",
       "      <td>7.1400</td>\n",
       "      <td>8.7025</td>\n",
       "      <td>9.2075</td>\n",
       "      <td>9.400</td>\n",
       "      <td>1.0325</td>\n",
       "      <td>397000.0</td>\n",
       "      <td>379750.0</td>\n",
       "      <td>...</td>\n",
       "      <td>0.825769</td>\n",
       "      <td>-0.656154</td>\n",
       "      <td>0.366923</td>\n",
       "      <td>6.928846</td>\n",
       "      <td>-1.081538</td>\n",
       "      <td>6.972692</td>\n",
       "      <td>-1.037692</td>\n",
       "      <td>48.446154</td>\n",
       "      <td>105.442308</td>\n",
       "      <td>24.582038</td>\n",
       "    </tr>\n",
       "    <tr>\n",
       "      <th>1986-01-13</th>\n",
       "      <td>7.9700</td>\n",
       "      <td>620.100</td>\n",
       "      <td>2499.600</td>\n",
       "      <td>7.1500</td>\n",
       "      <td>8.7550</td>\n",
       "      <td>9.2550</td>\n",
       "      <td>9.430</td>\n",
       "      <td>1.0550</td>\n",
       "      <td>388750.0</td>\n",
       "      <td>379375.0</td>\n",
       "      <td>...</td>\n",
       "      <td>0.826923</td>\n",
       "      <td>-0.635385</td>\n",
       "      <td>0.382308</td>\n",
       "      <td>6.894615</td>\n",
       "      <td>-1.063846</td>\n",
       "      <td>6.939231</td>\n",
       "      <td>-1.019231</td>\n",
       "      <td>48.515385</td>\n",
       "      <td>105.330769</td>\n",
       "      <td>24.052846</td>\n",
       "    </tr>\n",
       "    <tr>\n",
       "      <th>1986-01-15</th>\n",
       "      <td>7.9500</td>\n",
       "      <td>620.300</td>\n",
       "      <td>2500.625</td>\n",
       "      <td>7.1600</td>\n",
       "      <td>8.8075</td>\n",
       "      <td>9.3025</td>\n",
       "      <td>9.460</td>\n",
       "      <td>1.0775</td>\n",
       "      <td>380500.0</td>\n",
       "      <td>379000.0</td>\n",
       "      <td>...</td>\n",
       "      <td>0.826923</td>\n",
       "      <td>-0.635385</td>\n",
       "      <td>0.382308</td>\n",
       "      <td>6.894615</td>\n",
       "      <td>-1.063846</td>\n",
       "      <td>6.939231</td>\n",
       "      <td>-1.019231</td>\n",
       "      <td>48.515385</td>\n",
       "      <td>105.330769</td>\n",
       "      <td>24.052846</td>\n",
       "    </tr>\n",
       "    <tr>\n",
       "      <th>1986-01-17</th>\n",
       "      <td>7.9300</td>\n",
       "      <td>620.500</td>\n",
       "      <td>2501.650</td>\n",
       "      <td>7.1700</td>\n",
       "      <td>8.8600</td>\n",
       "      <td>9.3500</td>\n",
       "      <td>9.490</td>\n",
       "      <td>1.1000</td>\n",
       "      <td>372250.0</td>\n",
       "      <td>378625.0</td>\n",
       "      <td>...</td>\n",
       "      <td>0.826923</td>\n",
       "      <td>-0.635385</td>\n",
       "      <td>0.382308</td>\n",
       "      <td>6.894615</td>\n",
       "      <td>-1.063846</td>\n",
       "      <td>6.939231</td>\n",
       "      <td>-1.019231</td>\n",
       "      <td>48.515385</td>\n",
       "      <td>105.330769</td>\n",
       "      <td>24.052846</td>\n",
       "    </tr>\n",
       "    <tr>\n",
       "      <th>...</th>\n",
       "      <td>...</td>\n",
       "      <td>...</td>\n",
       "      <td>...</td>\n",
       "      <td>...</td>\n",
       "      <td>...</td>\n",
       "      <td>...</td>\n",
       "      <td>...</td>\n",
       "      <td>...</td>\n",
       "      <td>...</td>\n",
       "      <td>...</td>\n",
       "      <td>...</td>\n",
       "      <td>...</td>\n",
       "      <td>...</td>\n",
       "      <td>...</td>\n",
       "      <td>...</td>\n",
       "      <td>...</td>\n",
       "      <td>...</td>\n",
       "      <td>...</td>\n",
       "      <td>...</td>\n",
       "      <td>...</td>\n",
       "      <td>...</td>\n",
       "    </tr>\n",
       "    <tr>\n",
       "      <th>2023-02-27</th>\n",
       "      <td>4.5750</td>\n",
       "      <td>18104.900</td>\n",
       "      <td>19370.800</td>\n",
       "      <td>4.7250</td>\n",
       "      <td>4.1900</td>\n",
       "      <td>3.9550</td>\n",
       "      <td>3.940</td>\n",
       "      <td>0.0900</td>\n",
       "      <td>190000.0</td>\n",
       "      <td>193000.0</td>\n",
       "      <td>...</td>\n",
       "      <td>-0.800000</td>\n",
       "      <td>0.360000</td>\n",
       "      <td>-0.690000</td>\n",
       "      <td>4.540000</td>\n",
       "      <td>0.210000</td>\n",
       "      <td>4.670000</td>\n",
       "      <td>0.340000</td>\n",
       "      <td>3029.900000</td>\n",
       "      <td>257.494000</td>\n",
       "      <td>78.120000</td>\n",
       "    </tr>\n",
       "    <tr>\n",
       "      <th>2023-03-01</th>\n",
       "      <td>4.5725</td>\n",
       "      <td>18104.900</td>\n",
       "      <td>19370.800</td>\n",
       "      <td>4.7275</td>\n",
       "      <td>4.2150</td>\n",
       "      <td>3.9675</td>\n",
       "      <td>3.945</td>\n",
       "      <td>0.0900</td>\n",
       "      <td>190000.0</td>\n",
       "      <td>193000.0</td>\n",
       "      <td>...</td>\n",
       "      <td>-0.800000</td>\n",
       "      <td>0.360000</td>\n",
       "      <td>-0.690000</td>\n",
       "      <td>4.540000</td>\n",
       "      <td>0.210000</td>\n",
       "      <td>4.670000</td>\n",
       "      <td>0.340000</td>\n",
       "      <td>3029.900000</td>\n",
       "      <td>257.494000</td>\n",
       "      <td>78.120000</td>\n",
       "    </tr>\n",
       "    <tr>\n",
       "      <th>2023-03-03</th>\n",
       "      <td>4.5700</td>\n",
       "      <td>18104.900</td>\n",
       "      <td>19370.800</td>\n",
       "      <td>4.7300</td>\n",
       "      <td>4.2400</td>\n",
       "      <td>3.9800</td>\n",
       "      <td>3.950</td>\n",
       "      <td>0.0900</td>\n",
       "      <td>190000.0</td>\n",
       "      <td>193000.0</td>\n",
       "      <td>...</td>\n",
       "      <td>-0.800000</td>\n",
       "      <td>0.360000</td>\n",
       "      <td>-0.690000</td>\n",
       "      <td>4.540000</td>\n",
       "      <td>0.210000</td>\n",
       "      <td>4.670000</td>\n",
       "      <td>0.340000</td>\n",
       "      <td>3029.900000</td>\n",
       "      <td>257.494000</td>\n",
       "      <td>78.120000</td>\n",
       "    </tr>\n",
       "    <tr>\n",
       "      <th>2023-03-06</th>\n",
       "      <td>4.5700</td>\n",
       "      <td>18104.900</td>\n",
       "      <td>19370.800</td>\n",
       "      <td>4.7300</td>\n",
       "      <td>4.2400</td>\n",
       "      <td>3.9800</td>\n",
       "      <td>3.950</td>\n",
       "      <td>0.0900</td>\n",
       "      <td>190000.0</td>\n",
       "      <td>193000.0</td>\n",
       "      <td>...</td>\n",
       "      <td>-0.800000</td>\n",
       "      <td>0.360000</td>\n",
       "      <td>-0.690000</td>\n",
       "      <td>4.540000</td>\n",
       "      <td>0.210000</td>\n",
       "      <td>4.670000</td>\n",
       "      <td>0.340000</td>\n",
       "      <td>3029.900000</td>\n",
       "      <td>257.494000</td>\n",
       "      <td>78.120000</td>\n",
       "    </tr>\n",
       "    <tr>\n",
       "      <th>2023-03-10</th>\n",
       "      <td>4.5700</td>\n",
       "      <td>18104.900</td>\n",
       "      <td>19370.800</td>\n",
       "      <td>4.7300</td>\n",
       "      <td>4.2400</td>\n",
       "      <td>3.9800</td>\n",
       "      <td>3.950</td>\n",
       "      <td>0.0900</td>\n",
       "      <td>190000.0</td>\n",
       "      <td>193000.0</td>\n",
       "      <td>...</td>\n",
       "      <td>-0.800000</td>\n",
       "      <td>0.360000</td>\n",
       "      <td>-0.690000</td>\n",
       "      <td>4.540000</td>\n",
       "      <td>0.210000</td>\n",
       "      <td>4.670000</td>\n",
       "      <td>0.340000</td>\n",
       "      <td>3029.900000</td>\n",
       "      <td>257.494000</td>\n",
       "      <td>78.120000</td>\n",
       "    </tr>\n",
       "  </tbody>\n",
       "</table>\n",
       "<p>7756 rows × 90 columns</p>\n",
       "</div>"
      ],
      "text/plain": [
       "               DFF         M1         M2                   DGS10  DGS30  \\\n",
       "Date                                                                      \n",
       "1986-01-10  8.0100    621.050   2500.400  7.1300  8.6500  9.1600  9.370   \n",
       "1986-01-11  7.9900    620.575   2500.000  7.1400  8.7025  9.2075  9.400   \n",
       "1986-01-13  7.9700    620.100   2499.600  7.1500  8.7550  9.2550  9.430   \n",
       "1986-01-15  7.9500    620.300   2500.625  7.1600  8.8075  9.3025  9.460   \n",
       "1986-01-17  7.9300    620.500   2501.650  7.1700  8.8600  9.3500  9.490   \n",
       "...            ...        ...        ...     ...     ...     ...    ...   \n",
       "2023-02-27  4.5750  18104.900  19370.800  4.7250  4.1900  3.9550  3.940   \n",
       "2023-03-01  4.5725  18104.900  19370.800  4.7275  4.2150  3.9675  3.945   \n",
       "2023-03-03  4.5700  18104.900  19370.800  4.7300  4.2400  3.9800  3.950   \n",
       "2023-03-06  4.5700  18104.900  19370.800  4.7300  4.2400  3.9800  3.950   \n",
       "2023-03-10  4.5700  18104.900  19370.800  4.7300  4.2400  3.9800  3.950   \n",
       "\n",
       "            TEDRATE      ICSA    IC4WSA  ...    T10YFF     T1YFF     T5YFF  \\\n",
       "Date                                     ...                                 \n",
       "1986-01-10   1.0100  388250.0  378812.5  ...  0.825769 -0.656154  0.366923   \n",
       "1986-01-11   1.0325  397000.0  379750.0  ...  0.825769 -0.656154  0.366923   \n",
       "1986-01-13   1.0550  388750.0  379375.0  ...  0.826923 -0.635385  0.382308   \n",
       "1986-01-15   1.0775  380500.0  379000.0  ...  0.826923 -0.635385  0.382308   \n",
       "1986-01-17   1.1000  372250.0  378625.0  ...  0.826923 -0.635385  0.382308   \n",
       "...             ...       ...       ...  ...       ...       ...       ...   \n",
       "2023-02-27   0.0900  190000.0  193000.0  ... -0.800000  0.360000 -0.690000   \n",
       "2023-03-01   0.0900  190000.0  193000.0  ... -0.800000  0.360000 -0.690000   \n",
       "2023-03-03   0.0900  190000.0  193000.0  ... -0.800000  0.360000 -0.690000   \n",
       "2023-03-06   0.0900  190000.0  193000.0  ... -0.800000  0.360000 -0.690000   \n",
       "2023-03-10   0.0900  190000.0  193000.0  ... -0.800000  0.360000 -0.690000   \n",
       "\n",
       "               TB3MS  TB3SMFFM     TB6MS  TB6SMFFM     TOTRESNS  WPSFD49207  \\\n",
       "Date                                                                          \n",
       "1986-01-10  6.928846 -1.081538  6.972692 -1.037692    48.446154  105.442308   \n",
       "1986-01-11  6.928846 -1.081538  6.972692 -1.037692    48.446154  105.442308   \n",
       "1986-01-13  6.894615 -1.063846  6.939231 -1.019231    48.515385  105.330769   \n",
       "1986-01-15  6.894615 -1.063846  6.939231 -1.019231    48.515385  105.330769   \n",
       "1986-01-17  6.894615 -1.063846  6.939231 -1.019231    48.515385  105.330769   \n",
       "...              ...       ...       ...       ...          ...         ...   \n",
       "2023-02-27  4.540000  0.210000  4.670000  0.340000  3029.900000  257.494000   \n",
       "2023-03-01  4.540000  0.210000  4.670000  0.340000  3029.900000  257.494000   \n",
       "2023-03-03  4.540000  0.210000  4.670000  0.340000  3029.900000  257.494000   \n",
       "2023-03-06  4.540000  0.210000  4.670000  0.340000  3029.900000  257.494000   \n",
       "2023-03-10  4.540000  0.210000  4.670000  0.340000  3029.900000  257.494000   \n",
       "\n",
       "              WTISPLC  \n",
       "Date                   \n",
       "1986-01-10  24.582038  \n",
       "1986-01-11  24.582038  \n",
       "1986-01-13  24.052846  \n",
       "1986-01-15  24.052846  \n",
       "1986-01-17  24.052846  \n",
       "...               ...  \n",
       "2023-02-27  78.120000  \n",
       "2023-03-01  78.120000  \n",
       "2023-03-03  78.120000  \n",
       "2023-03-06  78.120000  \n",
       "2023-03-10  78.120000  \n",
       "\n",
       "[7756 rows x 90 columns]"
      ]
     },
     "execution_count": 24,
     "metadata": {},
     "output_type": "execute_result"
    }
   ],
   "source": [
    "dfx"
   ]
  },
  {
   "cell_type": "markdown",
   "id": "294e1ad5",
   "metadata": {},
   "source": [
    "## TARGET DATA"
   ]
  },
  {
   "cell_type": "code",
   "execution_count": 25,
   "id": "90fb64c4",
   "metadata": {},
   "outputs": [
    {
     "name": "stdout",
     "output_type": "stream",
     "text": [
      "[*********************100%***********************]  1 of 1 completed\n"
     ]
    }
   ],
   "source": [
    "NSDQ = yf.download('^NDX', interval='1wk', start = '1986-01-01')"
   ]
  },
  {
   "cell_type": "code",
   "execution_count": 26,
   "id": "d3cdeefa",
   "metadata": {},
   "outputs": [],
   "source": [
    "### Fixing dfx Date:\n",
    "dfx = dfx.reindex(NSDQ.index, method='ffill')\n",
    "\n",
    "dfx = dfx.dropna()"
   ]
  },
  {
   "cell_type": "markdown",
   "id": "fd52b07b",
   "metadata": {},
   "source": [
    "### Creating Classification Targets: Drawdowns and Expansions"
   ]
  },
  {
   "cell_type": "code",
   "execution_count": 27,
   "id": "6904f3ac",
   "metadata": {},
   "outputs": [],
   "source": [
    "#NSDQ RETURNS\n",
    "NSDQ['NSDQ_RETS'] = (NSDQ['Close'] - NSDQ['Open']) / NSDQ['Open'] * 100\n",
    "NSDQ['NSDQ_RETS'] = NSDQ['NSDQ_RETS'].fillna(0)"
   ]
  },
  {
   "cell_type": "code",
   "execution_count": 28,
   "id": "994f5206",
   "metadata": {},
   "outputs": [
    {
     "data": {
      "text/html": [
       "<div>\n",
       "<style scoped>\n",
       "    .dataframe tbody tr th:only-of-type {\n",
       "        vertical-align: middle;\n",
       "    }\n",
       "\n",
       "    .dataframe tbody tr th {\n",
       "        vertical-align: top;\n",
       "    }\n",
       "\n",
       "    .dataframe thead th {\n",
       "        text-align: right;\n",
       "    }\n",
       "</style>\n",
       "<table border=\"1\" class=\"dataframe\">\n",
       "  <thead>\n",
       "    <tr style=\"text-align: right;\">\n",
       "      <th></th>\n",
       "      <th>Open</th>\n",
       "      <th>High</th>\n",
       "      <th>Low</th>\n",
       "      <th>Close</th>\n",
       "      <th>Adj Close</th>\n",
       "      <th>Volume</th>\n",
       "      <th>NSDQ_RETS</th>\n",
       "    </tr>\n",
       "    <tr>\n",
       "      <th>Date</th>\n",
       "      <th></th>\n",
       "      <th></th>\n",
       "      <th></th>\n",
       "      <th></th>\n",
       "      <th></th>\n",
       "      <th></th>\n",
       "      <th></th>\n",
       "    </tr>\n",
       "  </thead>\n",
       "  <tbody>\n",
       "    <tr>\n",
       "      <th>1986-01-01</th>\n",
       "      <td>132.294998</td>\n",
       "      <td>132.875000</td>\n",
       "      <td>129.845001</td>\n",
       "      <td>132.789993</td>\n",
       "      <td>132.789993</td>\n",
       "      <td>783460000</td>\n",
       "      <td>0.374160</td>\n",
       "    </tr>\n",
       "    <tr>\n",
       "      <th>1986-01-08</th>\n",
       "      <td>132.789993</td>\n",
       "      <td>133.884995</td>\n",
       "      <td>128.054993</td>\n",
       "      <td>129.179993</td>\n",
       "      <td>129.179993</td>\n",
       "      <td>1100580000</td>\n",
       "      <td>-2.718579</td>\n",
       "    </tr>\n",
       "    <tr>\n",
       "      <th>1986-01-15</th>\n",
       "      <td>129.179993</td>\n",
       "      <td>133.600006</td>\n",
       "      <td>129.005005</td>\n",
       "      <td>131.089996</td>\n",
       "      <td>131.089996</td>\n",
       "      <td>1111060000</td>\n",
       "      <td>1.478560</td>\n",
       "    </tr>\n",
       "    <tr>\n",
       "      <th>1986-01-22</th>\n",
       "      <td>131.089996</td>\n",
       "      <td>132.044998</td>\n",
       "      <td>128.460007</td>\n",
       "      <td>131.990005</td>\n",
       "      <td>131.990005</td>\n",
       "      <td>1125800000</td>\n",
       "      <td>0.686558</td>\n",
       "    </tr>\n",
       "    <tr>\n",
       "      <th>1986-01-29</th>\n",
       "      <td>131.990005</td>\n",
       "      <td>135.690002</td>\n",
       "      <td>131.990005</td>\n",
       "      <td>134.600006</td>\n",
       "      <td>134.600006</td>\n",
       "      <td>1166600000</td>\n",
       "      <td>1.977423</td>\n",
       "    </tr>\n",
       "    <tr>\n",
       "      <th>...</th>\n",
       "      <td>...</td>\n",
       "      <td>...</td>\n",
       "      <td>...</td>\n",
       "      <td>...</td>\n",
       "      <td>...</td>\n",
       "      <td>...</td>\n",
       "      <td>...</td>\n",
       "    </tr>\n",
       "    <tr>\n",
       "      <th>2023-02-01</th>\n",
       "      <td>12087.919922</td>\n",
       "      <td>12880.980469</td>\n",
       "      <td>12010.730469</td>\n",
       "      <td>12728.269531</td>\n",
       "      <td>12728.269531</td>\n",
       "      <td>30587330000</td>\n",
       "      <td>5.297434</td>\n",
       "    </tr>\n",
       "    <tr>\n",
       "      <th>2023-02-08</th>\n",
       "      <td>12680.030273</td>\n",
       "      <td>12709.450195</td>\n",
       "      <td>12204.209961</td>\n",
       "      <td>12590.889648</td>\n",
       "      <td>12590.889648</td>\n",
       "      <td>25259500000</td>\n",
       "      <td>-0.703000</td>\n",
       "    </tr>\n",
       "    <tr>\n",
       "      <th>2023-02-15</th>\n",
       "      <td>12531.599609</td>\n",
       "      <td>12689.339844</td>\n",
       "      <td>12058.230469</td>\n",
       "      <td>12060.299805</td>\n",
       "      <td>12060.299805</td>\n",
       "      <td>20143820000</td>\n",
       "      <td>-3.760891</td>\n",
       "    </tr>\n",
       "    <tr>\n",
       "      <th>2023-02-22</th>\n",
       "      <td>12085.669922</td>\n",
       "      <td>12227.400391</td>\n",
       "      <td>11900.839844</td>\n",
       "      <td>12042.120117</td>\n",
       "      <td>12042.120117</td>\n",
       "      <td>23653450000</td>\n",
       "      <td>-0.360342</td>\n",
       "    </tr>\n",
       "    <tr>\n",
       "      <th>2023-03-01</th>\n",
       "      <td>12026.719727</td>\n",
       "      <td>12466.879883</td>\n",
       "      <td>11830.089844</td>\n",
       "      <td>12152.169922</td>\n",
       "      <td>12152.169922</td>\n",
       "      <td>25749200000</td>\n",
       "      <td>1.043096</td>\n",
       "    </tr>\n",
       "  </tbody>\n",
       "</table>\n",
       "<p>1940 rows × 7 columns</p>\n",
       "</div>"
      ],
      "text/plain": [
       "                    Open          High           Low         Close  \\\n",
       "Date                                                                 \n",
       "1986-01-01    132.294998    132.875000    129.845001    132.789993   \n",
       "1986-01-08    132.789993    133.884995    128.054993    129.179993   \n",
       "1986-01-15    129.179993    133.600006    129.005005    131.089996   \n",
       "1986-01-22    131.089996    132.044998    128.460007    131.990005   \n",
       "1986-01-29    131.990005    135.690002    131.990005    134.600006   \n",
       "...                  ...           ...           ...           ...   \n",
       "2023-02-01  12087.919922  12880.980469  12010.730469  12728.269531   \n",
       "2023-02-08  12680.030273  12709.450195  12204.209961  12590.889648   \n",
       "2023-02-15  12531.599609  12689.339844  12058.230469  12060.299805   \n",
       "2023-02-22  12085.669922  12227.400391  11900.839844  12042.120117   \n",
       "2023-03-01  12026.719727  12466.879883  11830.089844  12152.169922   \n",
       "\n",
       "               Adj Close       Volume  NSDQ_RETS  \n",
       "Date                                              \n",
       "1986-01-01    132.789993    783460000   0.374160  \n",
       "1986-01-08    129.179993   1100580000  -2.718579  \n",
       "1986-01-15    131.089996   1111060000   1.478560  \n",
       "1986-01-22    131.990005   1125800000   0.686558  \n",
       "1986-01-29    134.600006   1166600000   1.977423  \n",
       "...                  ...          ...        ...  \n",
       "2023-02-01  12728.269531  30587330000   5.297434  \n",
       "2023-02-08  12590.889648  25259500000  -0.703000  \n",
       "2023-02-15  12060.299805  20143820000  -3.760891  \n",
       "2023-02-22  12042.120117  23653450000  -0.360342  \n",
       "2023-03-01  12152.169922  25749200000   1.043096  \n",
       "\n",
       "[1940 rows x 7 columns]"
      ]
     },
     "execution_count": 28,
     "metadata": {},
     "output_type": "execute_result"
    }
   ],
   "source": [
    "NSDQ"
   ]
  },
  {
   "cell_type": "code",
   "execution_count": 29,
   "id": "ee61a180",
   "metadata": {},
   "outputs": [],
   "source": [
    "dfx['NSDQ_OPEN'] = NSDQ['Open']\n",
    "dfx['NSDQ_High'] = NSDQ['High']\n",
    "dfx['NSDQ_Low'] = NSDQ['Low']\n",
    "dfx['NSDQ_Close'] = NSDQ['Close']\n",
    "dfx['NSDQ_Vol'] = NSDQ['Volume']"
   ]
  },
  {
   "cell_type": "markdown",
   "id": "fd8ecde6",
   "metadata": {},
   "source": [
    "#### Drawdowns"
   ]
  },
  {
   "cell_type": "code",
   "execution_count": 30,
   "id": "e5807a46",
   "metadata": {},
   "outputs": [],
   "source": [
    "def drawdown(return_series: pd.Series):\n",
    "    \"\"\"\n",
    "Takes a time series of asset returns.\n",
    "returns a DataFrame with columns for\n",
    "the wealth index, the previous peaks, \n",
    "and the percentage drawdown\n",
    "    \"\"\"\n",
    "    wealth_index = 1000000000*(1+return_series).cumprod()\n",
    "    previous_peaks = wealth_index.cummax()\n",
    "    drawdowns = (wealth_index - previous_peaks)/previous_peaks*100\n",
    "    return pd.DataFrame({\"Wealth\": wealth_index, \n",
    "                         \"Previous Peak\": previous_peaks, \n",
    "                         \"Drawdown\": drawdowns})"
   ]
  },
  {
   "cell_type": "code",
   "execution_count": 31,
   "id": "f0b8261c",
   "metadata": {},
   "outputs": [
    {
     "name": "stderr",
     "output_type": "stream",
     "text": [
      "C:\\Users\\alexp\\AppData\\Roaming\\Python\\Python38\\site-packages\\numpy\\core\\fromnumeric.py:57: RuntimeWarning:\n",
      "\n",
      "overflow encountered in accumulate\n",
      "\n"
     ]
    }
   ],
   "source": [
    "drawdown = drawdown(NSDQ['NSDQ_RETS'])[['Drawdown']]\n",
    "\n",
    "nsdq_drawdown = drawdown\n",
    "\n",
    "NSDQ['NSDQ_DRAWDOWN'] = nsdq_drawdown['Drawdown']\n",
    "\n",
    "NSDQ['NSDQ_DRAWDOWN_ABS'] = NSDQ['NSDQ_DRAWDOWN'].abs()"
   ]
  },
  {
   "cell_type": "code",
   "execution_count": 32,
   "id": "77915b19",
   "metadata": {},
   "outputs": [],
   "source": [
    "USREC = fred.get_series('USRECD',  observation_start='1980-01-01', frequency='w').to_frame(name='USRECD')"
   ]
  },
  {
   "cell_type": "markdown",
   "id": "f4c59070",
   "metadata": {},
   "source": [
    "##### Classifying Downswing"
   ]
  },
  {
   "cell_type": "code",
   "execution_count": 33,
   "id": "1e9e56cf",
   "metadata": {},
   "outputs": [],
   "source": [
    "# Drawdowns\n",
    "NSDQ['Drawdown_Small'] = np.where(NSDQ['NSDQ_DRAWDOWN_ABS']>=10,1,0)\n",
    "NSDQ['Drawdown_Large'] = np.where(NSDQ['NSDQ_DRAWDOWN_ABS']>=20,1,0)\n",
    "NSDQ['Drawdown_Stress'] = np.where(NSDQ['NSDQ_DRAWDOWN_ABS']>=40,1,0)"
   ]
  },
  {
   "cell_type": "code",
   "execution_count": 34,
   "id": "44f9c446",
   "metadata": {},
   "outputs": [],
   "source": [
    "# Downswings\n",
    "NSDQ['Downswing_Small'] = np.where(NSDQ['NSDQ_RETS']<=-.01,1,0)\n",
    "NSDQ['Downswing_Large'] = np.where(NSDQ['NSDQ_RETS']<=-.02,1,0)\n",
    "NSDQ['Downswing_Stress'] = np.where(NSDQ['NSDQ_RETS']<=-.05,1,0)"
   ]
  },
  {
   "cell_type": "code",
   "execution_count": 35,
   "id": "35a06637",
   "metadata": {},
   "outputs": [
    {
     "data": {
      "text/plain": [
       "((820, 15), (816, 15), (807, 15))"
      ]
     },
     "execution_count": 35,
     "metadata": {},
     "output_type": "execute_result"
    }
   ],
   "source": [
    "NSDQ.query('Downswing_Small==1').shape, NSDQ.query('Downswing_Large==1').shape, NSDQ.query('Downswing_Stress==1').shape"
   ]
  },
  {
   "cell_type": "markdown",
   "id": "1446df5b",
   "metadata": {},
   "source": [
    "##### Classifying Upswing"
   ]
  },
  {
   "cell_type": "code",
   "execution_count": 36,
   "id": "8c7d4d19",
   "metadata": {},
   "outputs": [],
   "source": [
    "NSDQ['Upswing_Small'] = np.where(NSDQ['NSDQ_RETS']>.025,1,0)\n",
    "NSDQ['Upswing_Large'] = np.where(NSDQ['NSDQ_RETS']>.05,1,0)\n",
    "NSDQ['Upswing_Stress'] = np.where(NSDQ['NSDQ_RETS']>.75,1,0)"
   ]
  },
  {
   "cell_type": "code",
   "execution_count": 37,
   "id": "4b42a504",
   "metadata": {},
   "outputs": [
    {
     "data": {
      "text/plain": [
       "((1110, 18), (1102, 18))"
      ]
     },
     "execution_count": 37,
     "metadata": {},
     "output_type": "execute_result"
    }
   ],
   "source": [
    "NSDQ.query('Upswing_Small==1').shape, NSDQ.query('Upswing_Large==1').shape"
   ]
  },
  {
   "cell_type": "markdown",
   "id": "4a5b8c16",
   "metadata": {},
   "source": [
    "Prelim thoughts: I think drawdowns are v effective and I should try to inverse for my upswings somehow. ChatGPT struggled to do this effectively. \n",
    "\n",
    "I think forecasting drawdowns will be more accurate. Alternatively, is it best to just see how many weeks there is a move +- x%... Drawdown seems too cumulative and may be problematic to predict, as whilst a drawdown is present, it may just be from last week being negative and this week actually being positive, so you are pointing to the wrong thing"
   ]
  },
  {
   "cell_type": "code",
   "execution_count": 38,
   "id": "902a557e",
   "metadata": {},
   "outputs": [],
   "source": [
    "# Downswing Targets\n",
    "y_nsdq_ds = NSDQ['Downswing_Small']\n",
    "y_nsdq_dl = NSDQ['Downswing_Large']\n",
    "y_nsdq_st = NSDQ['Downswing_Stress']\n",
    "\n",
    "# Upswing Targets\n",
    "\n",
    "y_NSDQ_us = NSDQ['Upswing_Small']\n",
    "y_NSDQ_ul = NSDQ['Upswing_Large']\n",
    "y_NSDQ_ust = NSDQ['Upswing_Stress']"
   ]
  },
  {
   "cell_type": "code",
   "execution_count": 39,
   "id": "76ebc582",
   "metadata": {},
   "outputs": [],
   "source": [
    "X = dfx"
   ]
  },
  {
   "cell_type": "code",
   "execution_count": 40,
   "id": "835c1b8f",
   "metadata": {},
   "outputs": [],
   "source": [
    "X = X.loc[:, ~X.columns.duplicated()]"
   ]
  },
  {
   "cell_type": "code",
   "execution_count": 41,
   "id": "d3fcb55b",
   "metadata": {},
   "outputs": [
    {
     "data": {
      "text/plain": [
       "(1938, 92)"
      ]
     },
     "execution_count": 41,
     "metadata": {},
     "output_type": "execute_result"
    }
   ],
   "source": [
    "X.shape"
   ]
  },
  {
   "cell_type": "code",
   "execution_count": 42,
   "id": "bd29c7c7",
   "metadata": {},
   "outputs": [],
   "source": [
    "X_tr, y_nsdq_ds_tr = (X.iloc[0:1450], y_nsdq_ds.iloc[0:1450])\n",
    "X_te, y_nsdq_ds_te = (X.iloc[1450:1930], y_nsdq_ds.iloc[1452:1932]) \n",
    "\n",
    "X_tr, y_nsdq_dl_tr = (X.iloc[0:1450], y_nsdq_dl.iloc[0:1450])\n",
    "X_te, y_nsdq_dl_te = (X.iloc[1450:1930], y_nsdq_dl.iloc[1452:1932])\n",
    "\n",
    "X_tr, y_nsdq_st_tr = (X.iloc[0:1450], y_nsdq_st.iloc[0:1450])\n",
    "X_te, y_nsdq_st_te = (X.iloc[1450:1930], y_nsdq_st.iloc[1452:1932])"
   ]
  },
  {
   "cell_type": "code",
   "execution_count": 43,
   "id": "7db4c4b6",
   "metadata": {},
   "outputs": [
    {
     "name": "stdout",
     "output_type": "stream",
     "text": [
      "It contains 0 infinite values\n",
      "\n",
      "Series([], dtype: object)\n",
      "\n",
      "DatetimeIndex([], dtype='datetime64[ns]', name='Date', freq=None)\n"
     ]
    },
    {
     "name": "stderr",
     "output_type": "stream",
     "text": [
      "C:\\Users\\alexp\\AppData\\Local\\Temp\\ipykernel_18376\\468623264.py:13: FutureWarning:\n",
      "\n",
      "In a future version of pandas all arguments of DataFrame.any and Series.any will be keyword-only.\n",
      "\n"
     ]
    }
   ],
   "source": [
    "# Checking for infinite (or -inf) values\n",
    "X.isin([np.inf, -np.inf])\n",
    "  \n",
    "count = np.isinf(X).values.sum()\n",
    "print(\"It contains \" + str(count) + \" infinite values\")\n",
    "  \n",
    "print()\n",
    "col_name = X.columns.to_series()[np.isinf(X).any()]\n",
    "print(col_name)\n",
    "  \n",
    "print()\n",
    "  \n",
    "r = X.index[np.isinf(X).any(1)]\n",
    "print(r)"
   ]
  },
  {
   "cell_type": "code",
   "execution_count": 44,
   "id": "e724df0f",
   "metadata": {},
   "outputs": [],
   "source": [
    "rus = RandomUnderSampler(random_state=42)"
   ]
  },
  {
   "cell_type": "markdown",
   "id": "70726130",
   "metadata": {},
   "source": [
    "## Small Downswing Naive Benchmarks"
   ]
  },
  {
   "cell_type": "markdown",
   "id": "c50e1a15",
   "metadata": {},
   "source": [
    "#### Simplifying Train and Test Sets"
   ]
  },
  {
   "cell_type": "code",
   "execution_count": 45,
   "id": "2e3d7f5f",
   "metadata": {},
   "outputs": [],
   "source": [
    "# Downswing Small\n",
    "X_tr, y_tr = (X.iloc[0:1450], y_nsdq_dl.iloc[0:1450])\n",
    "X_te, y_te = (X.iloc[1450:1930], y_nsdq_dl.iloc[1452:1932])"
   ]
  },
  {
   "cell_type": "code",
   "execution_count": 46,
   "id": "6c47a36b",
   "metadata": {},
   "outputs": [
    {
     "name": "stdout",
     "output_type": "stream",
     "text": [
      "Logistic Regression Accuracy: 60.00%\n",
      "              precision    recall  f1-score   support\n",
      "\n",
      "           0       0.60      1.00      0.75       288\n",
      "           1       0.00      0.00      0.00       192\n",
      "\n",
      "    accuracy                           0.60       480\n",
      "   macro avg       0.30      0.50      0.37       480\n",
      "weighted avg       0.36      0.60      0.45       480\n",
      "\n"
     ]
    },
    {
     "name": "stderr",
     "output_type": "stream",
     "text": [
      "C:\\Users\\alexp\\anaconda3\\envs\\AlgoTrading1\\lib\\site-packages\\sklearn\\metrics\\_classification.py:1221: UndefinedMetricWarning:\n",
      "\n",
      "Precision and F-score are ill-defined and being set to 0.0 in labels with no predicted samples. Use `zero_division` parameter to control this behavior.\n",
      "\n"
     ]
    }
   ],
   "source": [
    "benchmark_logit = LogisticRegression(solver='lbfgs', max_iter=10000, random_state=42)\n",
    "benchmark_logit.fit(X_tr, y_tr)\n",
    "print(\"Logistic Regression Accuracy: {:.2f}%\".format(benchmark_logit.score(X_te, y_te)*100))\n",
    "print(classification_report(y_te, benchmark_logit.predict(X_te)))"
   ]
  },
  {
   "cell_type": "code",
   "execution_count": 47,
   "id": "737bd924",
   "metadata": {},
   "outputs": [
    {
     "name": "stdout",
     "output_type": "stream",
     "text": [
      "Tuned Logistic Regression Parameters: {'classifier__C': 1e-05, 'classifier__penalty': 'l2'}\n",
      "Tuned Logistic Regression Accuracy: 57.17%\n",
      "              precision    recall  f1-score   support\n",
      "\n",
      "           0       0.60      1.00      0.75       288\n",
      "           1       0.00      0.00      0.00       192\n",
      "\n",
      "    accuracy                           0.60       480\n",
      "   macro avg       0.30      0.50      0.37       480\n",
      "weighted avg       0.36      0.60      0.45       480\n",
      "\n"
     ]
    },
    {
     "name": "stderr",
     "output_type": "stream",
     "text": [
      "C:\\Users\\alexp\\anaconda3\\envs\\AlgoTrading1\\lib\\site-packages\\sklearn\\metrics\\_classification.py:1221: UndefinedMetricWarning:\n",
      "\n",
      "Precision and F-score are ill-defined and being set to 0.0 in labels with no predicted samples. Use `zero_division` parameter to control this behavior.\n",
      "\n"
     ]
    }
   ],
   "source": [
    "pipeline = Pipeline([('scaler', StandardScaler()), ('classifier', benchmark_logit)]) \n",
    "\n",
    "cspace = np.logspace(-5, 2, 50)\n",
    "\n",
    "param_grid = {'classifier__C': cspace, 'classifier__penalty': ['l2']}\n",
    "\n",
    "benchmark_logit_cv = GridSearchCV(pipeline, param_grid, n_jobs=-1) #cv=5 is default\n",
    "\n",
    "benchmark_logit_cv.fit(X_tr, y_tr)\n",
    "\n",
    "print(\"Tuned Logistic Regression Parameters: {}\".format(benchmark_logit_cv.best_params_)) \n",
    "print(\"Tuned Logistic Regression Accuracy: {:.2f}%\".format(benchmark_logit_cv.best_score_*100))\n",
    "print(classification_report(y_te, benchmark_logit_cv.predict(X_te)))"
   ]
  },
  {
   "cell_type": "raw",
   "id": "f0ee17ce",
   "metadata": {},
   "source": [
    "benchmark_rf = RandomForestClassifier(random_state=42)\n",
    "\n",
    "benchmark_rf.fit(X_tr, y_tr)\n",
    "\n",
    "benchmark_rf_predict = benchmark_rf.predict(X_te)\n",
    "\n",
    "print(\"RF Accuracy: {:.2f}%\".format(benchmark_rf.score(X_te, y_te)*100))\n",
    "print(classification_report(y_te, benchmark_rf_predict))"
   ]
  },
  {
   "cell_type": "raw",
   "id": "4bcc2c5d",
   "metadata": {},
   "source": [
    "param_dist = {\n",
    "    'rf__bootstrap': [True],\n",
    "    'rf__max_depth': [10, 20, 30, 40, 50],\n",
    "    'rf__max_features': [1, 2, 3],\n",
    "    'rf__min_samples_leaf': [1, 2, 3],\n",
    "    'rf__min_samples_split': [2, 4, 6, 8, 10],\n",
    "    'rf__n_estimators': [100, 200, 300],\n",
    "    'rf__criterion': ['gini', 'entropy']}\n",
    "\n",
    "steps = [('scaler', StandardScaler()), \n",
    "         ('rf', benchmark_rf)]\n",
    "\n",
    "pipeline = Pipeline(steps)\n",
    "\n",
    "benchmark_rf_cv = GridSearchCV(pipeline, param_grid=param_dist, n_jobs = -1, verbose = 2)\n",
    "\n",
    "benchmark_rf_cv.fit(X_tr, y_tr)\n",
    "\n",
    "print(\"Tuned RandomForest Parameters: {}\".format(benchmark_rf_cv.best_params_))\n",
    "print(\"Tuned RandomForest Accuracy: {:.2f}%\".format(benchmark_rf_cv.best_score_*100))\n",
    "print(classification_report(y_te, benchmark_rf_cv.predict(X_te)))"
   ]
  },
  {
   "cell_type": "markdown",
   "id": "00907d62",
   "metadata": {},
   "source": [
    "# TSCV - Small Downswing"
   ]
  },
  {
   "cell_type": "code",
   "execution_count": 48,
   "id": "58fe7faa",
   "metadata": {},
   "outputs": [],
   "source": [
    "class BlockingTimeSeriesSplit():\n",
    "    def __init__(self, n_splits):\n",
    "        self.n_splits = n_splits\n",
    "    \n",
    "    def get_n_splits(self, X, y, groups):\n",
    "        return self.n_splits\n",
    "    \n",
    "    def split(self, X, y=None, groups=None):\n",
    "        n_samples = len(X)\n",
    "        k_fold_size = n_samples // self.n_splits\n",
    "        indices = np.arange(n_samples)\n",
    "\n",
    "        margin = 0\n",
    "        for i in range(self.n_splits):\n",
    "            start = i * k_fold_size\n",
    "            stop = start + k_fold_size\n",
    "            mid = int(0.9 * (stop - start)) + start\n",
    "            yield indices[start: mid], indices[mid + margin: stop]"
   ]
  },
  {
   "cell_type": "code",
   "execution_count": 49,
   "id": "5f84c72f",
   "metadata": {},
   "outputs": [
    {
     "name": "stdout",
     "output_type": "stream",
     "text": [
      "Split 1. Training set observations: 69, Testing set observations: 8\n",
      "Split 2. Training set observations: 69, Testing set observations: 8\n",
      "Split 3. Training set observations: 69, Testing set observations: 8\n",
      "Split 4. Training set observations: 69, Testing set observations: 8\n",
      "Split 5. Training set observations: 69, Testing set observations: 8\n",
      "Split 6. Training set observations: 69, Testing set observations: 8\n",
      "Split 7. Training set observations: 69, Testing set observations: 8\n",
      "Split 8. Training set observations: 69, Testing set observations: 8\n",
      "Split 9. Training set observations: 69, Testing set observations: 8\n",
      "Split 10. Training set observations: 69, Testing set observations: 8\n",
      "Split 11. Training set observations: 69, Testing set observations: 8\n",
      "Split 12. Training set observations: 69, Testing set observations: 8\n",
      "Split 13. Training set observations: 69, Testing set observations: 8\n",
      "Split 14. Training set observations: 69, Testing set observations: 8\n",
      "Split 15. Training set observations: 69, Testing set observations: 8\n",
      "Split 16. Training set observations: 69, Testing set observations: 8\n",
      "Split 17. Training set observations: 69, Testing set observations: 8\n",
      "Split 18. Training set observations: 69, Testing set observations: 8\n",
      "Split 19. Training set observations: 69, Testing set observations: 8\n",
      "Split 20. Training set observations: 69, Testing set observations: 8\n",
      "Split 21. Training set observations: 69, Testing set observations: 8\n",
      "Split 22. Training set observations: 69, Testing set observations: 8\n",
      "Split 23. Training set observations: 69, Testing set observations: 8\n",
      "Split 24. Training set observations: 69, Testing set observations: 8\n",
      "Split 25. Training set observations: 69, Testing set observations: 8\n"
     ]
    }
   ],
   "source": [
    "X_te, y_te = (X.iloc[1450:1930], y_nsdq_dl.iloc[1452:1932])\n",
    "\n",
    "tscv = BlockingTimeSeriesSplit(n_splits=25)\n",
    "\n",
    "fold = 1\n",
    "\n",
    "for train_index, test_index in tscv.split(X):\n",
    "    X_train_fold, X_test_fold = X.iloc[train_index], X.iloc[test_index]\n",
    "    y_train_fold, y_test_fold = y_nsdq_dl.iloc[train_index], y_nsdq_dl.iloc[test_index]\n",
    "    print('Split %d.' % fold, 'Training set observations: %d,' % len(train_index), 'Testing set observations: %d' % len(test_index))\n",
    "    fold += 1"
   ]
  },
  {
   "cell_type": "code",
   "execution_count": 50,
   "id": "7a7526e8",
   "metadata": {},
   "outputs": [
    {
     "data": {
      "image/png": "[encoded data removed]",
      "text/plain": [
       "<Figure size 1800x720 with 1 Axes>"
      ]
     },
     "metadata": {
      "needs_background": "light"
     },
     "output_type": "display_data"
    }
   ],
   "source": [
    "fig, ax = plt.subplots(figsize=(25, 10))\n",
    "\n",
    "for ii, (tr, val) in enumerate(tscv.split(X)):\n",
    "    l1 = ax.scatter(tr, [ii+1] * len(tr), c=[plt.cm.coolwarm(.45)], marker='_', lw=20)\n",
    "    l2 = ax.scatter(val, [ii+1] * len(val), c=[plt.cm.coolwarm(.1)], marker='_', lw=20)\n",
    "    ax.set(ylim=[27.9, 1.5], title='TimeSeriesSplit', xlabel='Observations', ylabel='CV Iteration')\n",
    "    ax.legend([l1, l2], ['Training Set', 'Validation Set'], loc=0)\n",
    "    sns.set_style(\"whitegrid\")"
   ]
  },
  {
   "cell_type": "code",
   "execution_count": 51,
   "id": "521a1026",
   "metadata": {},
   "outputs": [],
   "source": [
    "sfm = SelectFromModel(estimator=RandomForestClassifier(random_state=42), max_features=10).fit(X_tr, y_tr)"
   ]
  },
  {
   "cell_type": "code",
   "execution_count": 52,
   "id": "e3ebcac2",
   "metadata": {},
   "outputs": [
    {
     "name": "stdout",
     "output_type": "stream",
     "text": [
      "Selection Status:  [False False False False False False  True  True  True  True False False\n",
      " False False False False False False False False False False  True False\n",
      " False False False False False False False False  True  True False False\n",
      " False False False False False False False False False False False False\n",
      " False False False False False False False False False False False False\n",
      " False False False False False False False False False False False False\n",
      " False False False False False False False False False False False False\n",
      " False False False  True False False  True  True]\n"
     ]
    }
   ],
   "source": [
    "# Variable Importance (post sfm)\n",
    "imp_status = sfm.get_support()\n",
    "print(\"Selection Status: \", imp_status)"
   ]
  },
  {
   "cell_type": "code",
   "execution_count": 53,
   "id": "bf93a95e",
   "metadata": {},
   "outputs": [],
   "source": [
    "features_imp_df = X.iloc[:,imp_status]"
   ]
  },
  {
   "cell_type": "markdown",
   "id": "59d877df",
   "metadata": {},
   "source": [
    "### SMALL DOWNSWING LogisticRegression"
   ]
  },
  {
   "cell_type": "markdown",
   "id": "5de8c747",
   "metadata": {},
   "source": [
    "##### Untuned Logit Train"
   ]
  },
  {
   "cell_type": "code",
   "execution_count": 54,
   "id": "4a0a26a9",
   "metadata": {},
   "outputs": [
    {
     "name": "stdout",
     "output_type": "stream",
     "text": [
      "Logistic Regression Accuracy: 57.17%\n",
      "              precision    recall  f1-score   support\n",
      "\n",
      "           0       0.57      1.00      0.73       829\n",
      "           1       0.00      0.00      0.00       621\n",
      "\n",
      "    accuracy                           0.57      1450\n",
      "   macro avg       0.29      0.50      0.36      1450\n",
      "weighted avg       0.33      0.57      0.42      1450\n",
      "\n"
     ]
    },
    {
     "name": "stderr",
     "output_type": "stream",
     "text": [
      "C:\\Users\\alexp\\anaconda3\\envs\\AlgoTrading1\\lib\\site-packages\\sklearn\\metrics\\_classification.py:1221: UndefinedMetricWarning:\n",
      "\n",
      "Precision and F-score are ill-defined and being set to 0.0 in labels with no predicted samples. Use `zero_division` parameter to control this behavior.\n",
      "\n"
     ]
    }
   ],
   "source": [
    "logit = LogisticRegression(solver='lbfgs', max_iter=10000, random_state=42)\n",
    "logit.fit(X_tr, y_tr)\n",
    "print(\"Logistic Regression Accuracy: {:.2f}%\".format(logit.score(X_tr, y_tr)*100))\n",
    "print(classification_report(y_tr, logit.predict(X_tr)))"
   ]
  },
  {
   "cell_type": "code",
   "execution_count": 55,
   "id": "1100cad5",
   "metadata": {
    "scrolled": true
   },
   "outputs": [
    {
     "data": {
      "text/plain": [
       "Text(0.5, 1.0, 'Logistic Regression Confusion Matrix (Train)')"
      ]
     },
     "execution_count": 55,
     "metadata": {},
     "output_type": "execute_result"
    },
    {
     "data": {
      "image/png": "[encoded data removed]",
      "text/plain": [
       "<Figure size 792x360 with 2 Axes>"
      ]
     },
     "metadata": {},
     "output_type": "display_data"
    }
   ],
   "source": [
    "fig, ax = plt.subplots(figsize=(11, 5))\n",
    "confusion_matrix = pd.crosstab(y_tr, logit.predict(X_tr), rownames=['Actual'], colnames=['Predicted'])\n",
    "sns.heatmap(confusion_matrix, annot=True, fmt='d', cmap=\"Blues\")\n",
    "ax.set_title('Logistic Regression Confusion Matrix (Train)')"
   ]
  },
  {
   "cell_type": "markdown",
   "id": "3ed3983c",
   "metadata": {},
   "source": [
    "## XGB SMALL DOWNSWING"
   ]
  },
  {
   "cell_type": "markdown",
   "id": "26d10416",
   "metadata": {},
   "source": [
    "##### Untuned Train"
   ]
  },
  {
   "cell_type": "code",
   "execution_count": 56,
   "id": "47fc985e",
   "metadata": {
    "scrolled": true
   },
   "outputs": [
    {
     "data": {
      "text/plain": [
       "XGBClassifier(base_score=0.5, booster='gbtree', callbacks=None,\n",
       "              colsample_bylevel=1, colsample_bynode=1, colsample_bytree=1,\n",
       "              early_stopping_rounds=None, enable_categorical=False,\n",
       "              eval_metric=None, gamma=0, gpu_id=-1, grow_policy='depthwise',\n",
       "              importance_type=None, interaction_constraints='',\n",
       "              learning_rate=0.300000012, max_bin=256, max_cat_to_onehot=4,\n",
       "              max_delta_step=0, max_depth=6, max_leaves=0, min_child_weight=1,\n",
       "              missing=nan, monotone_constraints='()', n_estimators=100,\n",
       "              n_jobs=0, num_parallel_tree=1, predictor='auto', random_state=42,\n",
       "              reg_alpha=0, reg_lambda=1, ...)"
      ]
     },
     "execution_count": 56,
     "metadata": {},
     "output_type": "execute_result"
    }
   ],
   "source": [
    "xgb = XGBClassifier(objective='binary:logistic', random_state=42)\n",
    "xgb.fit(X_tr, y_tr)"
   ]
  },
  {
   "cell_type": "code",
   "execution_count": 57,
   "id": "d2abd064",
   "metadata": {},
   "outputs": [
    {
     "name": "stdout",
     "output_type": "stream",
     "text": [
      "XGBoost Accuracy: 100.00%\n",
      "              precision    recall  f1-score   support\n",
      "\n",
      "           0       1.00      1.00      1.00       829\n",
      "           1       1.00      1.00      1.00       621\n",
      "\n",
      "    accuracy                           1.00      1450\n",
      "   macro avg       1.00      1.00      1.00      1450\n",
      "weighted avg       1.00      1.00      1.00      1450\n",
      "\n"
     ]
    }
   ],
   "source": [
    "xgb_predict = xgb.predict(X_tr)\n",
    "\n",
    "print(\"XGBoost Accuracy: {:.2f}%\".format(xgb.score(X_tr, y_tr)*100))\n",
    "print(classification_report(y_tr, xgb_predict))"
   ]
  },
  {
   "cell_type": "code",
   "execution_count": 58,
   "id": "8a6961e9",
   "metadata": {},
   "outputs": [
    {
     "data": {
      "text/plain": [
       "Text(0.5, 1.0, 'XGBoost Classifier Confusion Matrix')"
      ]
     },
     "execution_count": 58,
     "metadata": {},
     "output_type": "execute_result"
    },
    {
     "data": {
      "image/png": "[encoded data removed]",
      "text/plain": [
       "<Figure size 792x360 with 2 Axes>"
      ]
     },
     "metadata": {},
     "output_type": "display_data"
    }
   ],
   "source": [
    "fig, ax = plt.subplots(figsize=(11, 5))\n",
    "confusion_matrix = pd.crosstab(y_tr, xgb_predict, rownames=['Actual'], colnames=['Predicted'])\n",
    "sns.heatmap(confusion_matrix, annot=True, fmt='d', cmap=\"Blues\")\n",
    "ax.set_title('XGBoost Classifier Confusion Matrix')"
   ]
  },
  {
   "cell_type": "code",
   "execution_count": 59,
   "id": "8f2e7aa0",
   "metadata": {},
   "outputs": [
    {
     "data": {
      "image/png": "[encoded data removed]",
      "text/plain": [
       "<Figure size 432x288 with 1 Axes>"
      ]
     },
     "metadata": {},
     "output_type": "display_data"
    }
   ],
   "source": [
    "xgb_pr_auc = average_precision_score(y_tr, xgb.predict_proba(X_tr)[:,1])\n",
    "fpr, tpr, thresholds = precision_recall_curve(y_tr, xgb.predict_proba(X_tr)[:,1])\n",
    "\n",
    "plt.plot(fpr, tpr, label='AUC = %0.2f' % xgb_pr_auc)\n",
    "plt.xlabel('Recall')\n",
    "plt.ylabel('Precision')\n",
    "plt.title('Untuned XGBoost Classifier PR Curve')\n",
    "plt.legend(loc=0)\n",
    "plt.show()"
   ]
  },
  {
   "cell_type": "code",
   "execution_count": 60,
   "id": "3dd47506",
   "metadata": {},
   "outputs": [
    {
     "data": {
      "image/png": "[encoded data removed]",
      "text/plain": [
       "<Figure size 432x288 with 1 Axes>"
      ]
     },
     "metadata": {},
     "output_type": "display_data"
    }
   ],
   "source": [
    "y_predict_prob = xgb.predict_proba(X_tr)[:,1]\n",
    "\n",
    "tuned_xgb_roc_auc = roc_auc_score(y_tr, y_predict_prob)\n",
    "fpr, tpr, thresholds = roc_curve(y_tr, y_predict_prob)\n",
    "\n",
    "plt.plot([0, 1], [0, 1], 'r--')\n",
    "plt.plot(fpr, tpr, label='AUC = %0.2f' % tuned_xgb_roc_auc)\n",
    "plt.xlabel('False Positive Rate')\n",
    "plt.ylabel('True Positive Rate')\n",
    "plt.title('Untuned XGBoost Classifier ROC Curve')\n",
    "plt.legend(loc=0)\n",
    "plt.show()"
   ]
  },
  {
   "cell_type": "markdown",
   "id": "8466b8d4",
   "metadata": {},
   "source": [
    "##### Untuned Test"
   ]
  },
  {
   "cell_type": "code",
   "execution_count": 61,
   "id": "b4e95b1c",
   "metadata": {},
   "outputs": [
    {
     "name": "stdout",
     "output_type": "stream",
     "text": [
      "XGBoost Accuracy: 41.25%\n",
      "              precision    recall  f1-score   support\n",
      "\n",
      "           0       0.56      0.09      0.16       288\n",
      "           1       0.40      0.89      0.55       192\n",
      "\n",
      "    accuracy                           0.41       480\n",
      "   macro avg       0.48      0.49      0.35       480\n",
      "weighted avg       0.50      0.41      0.32       480\n",
      "\n"
     ]
    }
   ],
   "source": [
    "xgb_predict = xgb.predict(X_te)\n",
    "\n",
    "print(\"XGBoost Accuracy: {:.2f}%\".format(xgb.score(X_te, y_te)*100))\n",
    "print(classification_report(y_te, xgb_predict))"
   ]
  },
  {
   "cell_type": "code",
   "execution_count": 62,
   "id": "cd88a1d2",
   "metadata": {},
   "outputs": [
    {
     "data": {
      "text/plain": [
       "Text(0.5, 1.0, 'XGBoost Classifier Confusion Matrix')"
      ]
     },
     "execution_count": 62,
     "metadata": {},
     "output_type": "execute_result"
    },
    {
     "data": {
      "image/png": "[encoded data removed]",
      "text/plain": [
       "<Figure size 792x360 with 2 Axes>"
      ]
     },
     "metadata": {},
     "output_type": "display_data"
    }
   ],
   "source": [
    "fig, ax = plt.subplots(figsize=(11, 5))\n",
    "confusion_matrix = pd.crosstab(y_te, xgb_predict, rownames=['Actual'], colnames=['Predicted'])\n",
    "sns.heatmap(confusion_matrix, annot=True, fmt='d', cmap=\"Blues\")\n",
    "ax.set_title('XGBoost Classifier Confusion Matrix')"
   ]
  },
  {
   "cell_type": "code",
   "execution_count": 63,
   "id": "61398ccd",
   "metadata": {},
   "outputs": [
    {
     "data": {
      "image/png": "[encoded data removed]",
      "text/plain": [
       "<Figure size 432x288 with 1 Axes>"
      ]
     },
     "metadata": {},
     "output_type": "display_data"
    }
   ],
   "source": [
    "xgb_pr_auc = average_precision_score(y_te, xgb.predict_proba(X_te)[:,1])\n",
    "fpr, tpr, thresholds = precision_recall_curve(y_te, xgb.predict_proba(X_te)[:,1])\n",
    "\n",
    "plt.plot(fpr, tpr, label='AUC = %0.2f' % xgb_pr_auc)\n",
    "plt.xlabel('Recall')\n",
    "plt.ylabel('Precision')\n",
    "plt.title('Untuned XGBoost Classifier PR Curve')\n",
    "plt.legend(loc=0)\n",
    "plt.show()"
   ]
  },
  {
   "cell_type": "code",
   "execution_count": 64,
   "id": "ccf4a588",
   "metadata": {},
   "outputs": [
    {
     "data": {
      "image/png": "[encoded data removed]",
      "text/plain": [
       "<Figure size 432x288 with 1 Axes>"
      ]
     },
     "metadata": {},
     "output_type": "display_data"
    }
   ],
   "source": [
    "y_predict_prob = xgb.predict_proba(X_te)[:,1]\n",
    "\n",
    "tuned_xgb_roc_auc = roc_auc_score(y_te, y_predict_prob)\n",
    "fpr, tpr, thresholds = roc_curve(y_te, y_predict_prob)\n",
    "\n",
    "plt.plot([0, 1], [0, 1], 'r--')\n",
    "plt.plot(fpr, tpr, label='AUC = %0.2f' % tuned_xgb_roc_auc)\n",
    "plt.xlabel('False Positive Rate')\n",
    "plt.ylabel('True Positive Rate')\n",
    "plt.title('Untuned XGBoost Classifier ROC Curve')\n",
    "plt.legend(loc=0)\n",
    "plt.show()"
   ]
  },
  {
   "cell_type": "markdown",
   "id": "94bab770",
   "metadata": {},
   "source": [
    "##### Tuned Test XGB"
   ]
  },
  {
   "cell_type": "code",
   "execution_count": 65,
   "id": "0ab42cdd",
   "metadata": {},
   "outputs": [
    {
     "name": "stdout",
     "output_type": "stream",
     "text": [
      "Tuned XGBoost Parameters: {'xgb__colsample_bytree': 0.6, 'xgb__gamma': 0.5, 'xgb__max_depth': 1, 'xgb__min_child_weight': 10, 'xgb__subsample': 0.6}\n",
      "Tuned XGBoost Accuracy: 0.66%\n",
      "              precision    recall  f1-score   support\n",
      "\n",
      "           0       0.71      0.65      0.68       829\n",
      "           1       0.58      0.65      0.61       621\n",
      "\n",
      "    accuracy                           0.65      1450\n",
      "   macro avg       0.65      0.65      0.65      1450\n",
      "weighted avg       0.66      0.65      0.65      1450\n",
      "\n"
     ]
    }
   ],
   "source": [
    "pipeline = Pipeline([('rus', rus), ('scaler', StandardScaler()),\n",
    "         ('xgb', xgb)])\n",
    "\n",
    "param_grid = {\n",
    "        'xgb__min_child_weight': [1, 5, 10],\n",
    "        'xgb__gamma': [0.5, 1, 1.5, 2, 5],\n",
    "        'xgb__subsample': [0.6, 0.8, 1.0],\n",
    "        'xgb__colsample_bytree': [0.6, 0.8, 1.0],\n",
    "        'xgb__max_depth': [1, 2, 3, 4, 5]\n",
    "        }\n",
    "\n",
    "xgb_cv = GridSearchCV(pipeline, param_grid, cv=tscv, n_jobs=-1)\n",
    "\n",
    "xgb_cv.fit(X_tr, y_tr)\n",
    "\n",
    "print(\"Tuned XGBoost Parameters: {}\".format(xgb_cv.best_params_))\n",
    "print(\"Tuned XGBoost Accuracy: {:.2f}%\".format(xgb_cv.best_score_))\n",
    "print(classification_report(y_tr, xgb_cv.predict(X_tr)))"
   ]
  },
  {
   "cell_type": "code",
   "execution_count": 66,
   "id": "34503f1b",
   "metadata": {},
   "outputs": [],
   "source": [
    "# tscv makes training set much worse..."
   ]
  },
  {
   "cell_type": "code",
   "execution_count": 67,
   "id": "423b7b40",
   "metadata": {},
   "outputs": [
    {
     "data": {
      "text/plain": [
       "Text(0.5, 1.0, 'Tuned XGBoost Confusion Matrix')"
      ]
     },
     "execution_count": 67,
     "metadata": {},
     "output_type": "execute_result"
    },
    {
     "data": {
      "image/png": "[encoded data removed]",
      "text/plain": [
       "<Figure size 792x360 with 2 Axes>"
      ]
     },
     "metadata": {},
     "output_type": "display_data"
    }
   ],
   "source": [
    "fig, ax = plt.subplots(figsize=(11, 5))\n",
    "confusion_matrix = pd.crosstab(y_tr, xgb_cv.predict(X_tr), rownames=['Actual'], colnames=['Predicted'])\n",
    "sns.heatmap(confusion_matrix, annot=True, fmt='d', cmap=\"Blues\")\n",
    "ax.set_title('Tuned XGBoost Confusion Matrix')"
   ]
  },
  {
   "cell_type": "code",
   "execution_count": 68,
   "id": "2a63ee65",
   "metadata": {},
   "outputs": [
    {
     "data": {
      "image/png": "[encoded data removed]",
      "text/plain": [
       "<Figure size 432x288 with 1 Axes>"
      ]
     },
     "metadata": {},
     "output_type": "display_data"
    }
   ],
   "source": [
    "tuned_xgb_pr_auc = average_precision_score(y_tr, xgb_cv.predict_proba(X_tr)[:,1])\n",
    "fpr, tpr, thresholds = precision_recall_curve(y_tr, xgb_cv.predict_proba(X_tr)[:,1])\n",
    "\n",
    "plt.plot(fpr, tpr, label='AUC = %0.2f' % tuned_xgb_pr_auc)\n",
    "plt.xlabel('Recall')\n",
    "plt.ylabel('Precision')\n",
    "plt.title('Tuned XGBoost Classifier PR Curve')\n",
    "plt.legend(loc=0)\n",
    "plt.show()"
   ]
  },
  {
   "cell_type": "code",
   "execution_count": 69,
   "id": "b2546a41",
   "metadata": {},
   "outputs": [
    {
     "data": {
      "image/png": "[encoded data removed]",
      "text/plain": [
       "<Figure size 432x288 with 1 Axes>"
      ]
     },
     "metadata": {},
     "output_type": "display_data"
    }
   ],
   "source": [
    "y_predict_prob = xgb_cv.predict_proba(X_tr)[:,1]\n",
    "\n",
    "tuned_xgb_roc_auc = roc_auc_score(y_tr, y_predict_prob)\n",
    "fpr, tpr, thresholds = roc_curve(y_tr, y_predict_prob)\n",
    "\n",
    "plt.plot([0, 1], [0, 1], 'r--')\n",
    "plt.plot(fpr, tpr, label='AUC = %0.2f' % tuned_xgb_roc_auc)\n",
    "plt.xlabel('False Positive Rate')\n",
    "plt.ylabel('True Positive Rate')\n",
    "plt.title('Tuned XGBoost Classifier ROC Curve')\n",
    "plt.legend(loc=0)\n",
    "plt.show()"
   ]
  },
  {
   "cell_type": "markdown",
   "id": "112cb6f0",
   "metadata": {},
   "source": [
    "##### Tuned XGB Test"
   ]
  },
  {
   "cell_type": "code",
   "execution_count": 70,
   "id": "90b154cb",
   "metadata": {},
   "outputs": [
    {
     "name": "stdout",
     "output_type": "stream",
     "text": [
      "Tuned XGBoost Parameters: {'xgb__colsample_bytree': 0.6, 'xgb__gamma': 0.5, 'xgb__max_depth': 1, 'xgb__min_child_weight': 10, 'xgb__subsample': 0.6}\n",
      "Tuned XGBoost Accuracy: 0.66%\n",
      "              precision    recall  f1-score   support\n",
      "\n",
      "           0       0.60      0.89      0.72       288\n",
      "           1       0.43      0.12      0.19       192\n",
      "\n",
      "    accuracy                           0.58       480\n",
      "   macro avg       0.52      0.51      0.46       480\n",
      "weighted avg       0.53      0.58      0.51       480\n",
      "\n"
     ]
    }
   ],
   "source": [
    "pipeline = Pipeline([('rus', rus), ('scaler', StandardScaler()), ('xgb', xgb)])\n",
    "\n",
    "param_grid = {\n",
    "        'xgb__min_child_weight': [1, 5, 10],\n",
    "        'xgb__gamma': [0.5, 1, 1.5, 2, 5],\n",
    "        'xgb__subsample': [0.6, 0.8, 1.0],\n",
    "        'xgb__colsample_bytree': [0.6, 0.8, 1.0],\n",
    "        'xgb__max_depth': [1, 2, 3, 4, 5]\n",
    "        }\n",
    "\n",
    "xgb_cv = GridSearchCV(pipeline, param_grid, cv=tscv, n_jobs=-1)\n",
    "\n",
    "xgb_cv.fit(X_tr, y_tr)\n",
    "\n",
    "print(\"Tuned XGBoost Parameters: {}\".format(xgb_cv.best_params_))\n",
    "print(\"Tuned XGBoost Accuracy: {:.2f}%\".format(xgb_cv.best_score_))\n",
    "print(classification_report(y_te, xgb_cv.predict(X_te)))"
   ]
  },
  {
   "cell_type": "code",
   "execution_count": 71,
   "id": "af2303d7",
   "metadata": {},
   "outputs": [
    {
     "data": {
      "text/plain": [
       "Text(0.5, 1.0, 'Tuned XGBoost Confusion Matrix')"
      ]
     },
     "execution_count": 71,
     "metadata": {},
     "output_type": "execute_result"
    },
    {
     "data": {
      "image/png": "[encoded data removed]",
      "text/plain": [
       "<Figure size 792x360 with 2 Axes>"
      ]
     },
     "metadata": {},
     "output_type": "display_data"
    }
   ],
   "source": [
    "fig, ax = plt.subplots(figsize=(11, 5))\n",
    "confusion_matrix = pd.crosstab(y_te, xgb_cv.predict(X_te), rownames=['Actual'], colnames=['Predicted'])\n",
    "sns.heatmap(confusion_matrix, annot=True, fmt='d', cmap=\"Blues\")\n",
    "ax.set_title('Tuned XGBoost Confusion Matrix')"
   ]
  },
  {
   "cell_type": "code",
   "execution_count": 72,
   "id": "f9ac622f",
   "metadata": {},
   "outputs": [
    {
     "data": {
      "image/png": "[encoded data removed]",
      "text/plain": [
       "<Figure size 432x288 with 1 Axes>"
      ]
     },
     "metadata": {},
     "output_type": "display_data"
    }
   ],
   "source": [
    "tuned_xgb_pr_auc = average_precision_score(y_te, xgb_cv.predict_proba(X_te)[:,1])\n",
    "fpr, tpr, thresholds = precision_recall_curve(y_te, xgb_cv.predict_proba(X_te)[:,1])\n",
    "\n",
    "plt.plot(fpr, tpr, label='AUC = %0.2f' % tuned_xgb_pr_auc)\n",
    "plt.xlabel('Recall')\n",
    "plt.ylabel('Precision')\n",
    "plt.title('Tuned XGBoost Classifier PR Curve')\n",
    "plt.legend(loc=0)\n",
    "plt.show()"
   ]
  },
  {
   "cell_type": "code",
   "execution_count": 73,
   "id": "42cc794b",
   "metadata": {},
   "outputs": [
    {
     "data": {
      "image/png": "[encoded data removed]",
      "text/plain": [
       "<Figure size 432x288 with 1 Axes>"
      ]
     },
     "metadata": {},
     "output_type": "display_data"
    }
   ],
   "source": [
    "y_predict_prob = xgb_cv.predict_proba(X_te)[:,1]\n",
    "\n",
    "tuned_xgb_roc_auc = roc_auc_score(y_te, y_predict_prob)\n",
    "fpr, tpr, thresholds = roc_curve(y_te, y_predict_prob)\n",
    "\n",
    "plt.plot([0, 1], [0, 1], 'r--')\n",
    "plt.plot(fpr, tpr, label='AUC = %0.2f' % tuned_xgb_roc_auc)\n",
    "plt.xlabel('False Positive Rate')\n",
    "plt.ylabel('True Positive Rate')\n",
    "plt.title('Tuned XGBoost Classifier ROC Curve')\n",
    "plt.legend(loc=0)\n",
    "plt.show()"
   ]
  },
  {
   "cell_type": "code",
   "execution_count": null,
   "id": "f091c07e",
   "metadata": {},
   "outputs": [],
   "source": []
  }
 ],
 "metadata": {
  "kernelspec": {
   "display_name": "Python 3 (ipykernel)",
   "language": "python",
   "name": "python3"
  },
  "language_info": {
   "codemirror_mode": {
    "name": "ipython",
    "version": 3
   },
   "file_extension": ".py",
   "mimetype": "text/x-python",
   "name": "python",
   "nbconvert_exporter": "python",
   "pygments_lexer": "ipython3",
   "version": "3.8.13"
  }
 },
 "nbformat": 4,
 "nbformat_minor": 5
}
